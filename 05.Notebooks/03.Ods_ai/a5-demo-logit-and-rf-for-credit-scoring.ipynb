{
 "cells": [
  {
   "cell_type": "markdown",
   "metadata": {
    "_uuid": "b61a17511d9e5e3ccb732c0210ba185c169f69ac"
   },
   "source": [
    "<center>\n",
    "<img src=\"https://habrastorage.org/files/fd4/502/43d/fd450243dd604b81b9713213a247aa20.jpg\">\n",
    "## Open Machine Learning Course [mlcourse.ai](https://mlcourse.ai)\n",
    "<center>\n",
    "\n",
    "Author: Vitaly Radchenko (@vradchenko). This material is subject to the terms and conditions of the [Creative Commons CC BY-NC-SA 4.0](https://creativecommons.org/licenses/by-nc-sa/4.0/) license. Free use is permitted for any non-commercial purpose."
   ]
  },
  {
   "cell_type": "markdown",
   "metadata": {
    "_uuid": "d1a67717ad3317664bf3d108f1f0b0480dd79c63"
   },
   "source": [
    "# <center>Assignment # 5 (demo)</center>\n",
    "## <center>Logistic Regression and Random Forest in the credit scoring problem</center>  "
   ]
  },
  {
   "cell_type": "markdown",
   "metadata": {
    "_uuid": "7dbf48ad8bbb6a239269064331db677929a5fa3c"
   },
   "source": [
    "In this assignment, you will build models and answer questions using data on credit scoring.\n",
    "\n",
    "Please write your code in the cells with the \"Your code here\" placeholder. Then, answer the questions in the [form](https://docs.google.com/forms/d/1gKt0DA4So8ohKAHZNCk58ezvg7K_tik26d9QND7WC6M/edit).\n",
    "\n",
    "Let's start with a warm-up exercise."
   ]
  },
  {
   "cell_type": "markdown",
   "metadata": {
    "_uuid": "5ffc2f53b8f50650fd793336a20a9f0807b8529a"
   },
   "source": [
    "**Question 1.** There are 5 jurors in a courtroom. Each of them can correctly identify the guilt of the defendant with 70% probability, independent of one another. What is the probability that the jurors will jointly reach the correct verdict if the final decision is by majority vote?\n",
    "\n",
    "1. 70.00%\n",
    "2. 83.20%\n",
    "3. 83.70%\n",
    "4. 87.50%"
   ]
  },
  {
   "cell_type": "markdown",
   "metadata": {
    "_uuid": "7ff86c79a045fcfc6bf8211e539c3ab75a45181b"
   },
   "source": [
    "Great! Let's move on to machine learning.\n",
    "\n",
    "## Credit scoring problem setup\n",
    "\n",
    "#### Problem\n",
    "\n",
    "Predict whether the customer will repay their credit within 90 days. This is a binary classification problem; we will assign customers into good or bad categories based on our prediction.\n",
    "\n",
    "#### Data description\n",
    "\n",
    "| Feature | Variable Type | Value Type | Description |\n",
    "|:--------|:--------------|:-----------|:------------|\n",
    "| age | Input Feature | integer | Customer age |\n",
    "| DebtRatio | Input Feature | real | Total monthly loan payments (loan, alimony, etc.) / Total monthly income percentage |\n",
    "| NumberOfTime30-59DaysPastDueNotWorse | Input Feature | integer | The number of cases when client has overdue 30-59 days (not worse) on other loans during the last 2 years |\n",
    "| NumberOfTimes90DaysLate | Input Feature | integer | Number of cases when customer had 90+dpd overdue on other credits |\n",
    "| NumberOfTime60-89DaysPastDueNotWorse | Input Feature | integer | Number of cased when customer has 60-89dpd (not worse) during the last 2 years |\n",
    "| NumberOfDependents | Input Feature | integer | The number of customer dependents |\n",
    "| SeriousDlqin2yrs | Target Variable | binary: <br>0 or 1 | Customer hasn't paid the loan debt within 90 days |\n"
   ]
  },
  {
   "cell_type": "markdown",
   "metadata": {
    "_uuid": "258acae393c2c65de1b7c1ac581f0917009f58b9"
   },
   "source": [
    "Let's set up our environment:"
   ]
  },
  {
   "cell_type": "code",
   "execution_count": 1,
   "metadata": {
    "_uuid": "958b2cd2a45ac297fb144c47f2e993e0a5fab169"
   },
   "outputs": [],
   "source": [
    "# Disable warnings in Anaconda\n",
    "import warnings\n",
    "warnings.filterwarnings('ignore')\n",
    "\n",
    "import numpy as np\n",
    "import pandas as pd\n",
    "%matplotlib inline\n",
    "import matplotlib.pyplot as plt\n",
    "import seaborn as sns\n",
    "sns.set()"
   ]
  },
  {
   "cell_type": "code",
   "execution_count": 2,
   "metadata": {
    "_uuid": "57846c0c4a90698c2d1e4577a1d338566a0511d2"
   },
   "outputs": [],
   "source": [
    "from matplotlib import rcParams\n",
    "rcParams['figure.figsize'] = 11, 8"
   ]
  },
  {
   "cell_type": "markdown",
   "metadata": {
    "_uuid": "2e2cb4aaa7a07017c00bfa8621a8c1ff91e980e0"
   },
   "source": [
    "Let's write the function that will replace *NaN* values with the median for each column."
   ]
  },
  {
   "cell_type": "code",
   "execution_count": 3,
   "metadata": {
    "_uuid": "d4b4c073dc7d54908594df01f032b249b2ee461e"
   },
   "outputs": [],
   "source": [
    "def fill_nan(table):\n",
    "    for col in table.columns:\n",
    "        table[col] = table[col].fillna(table[col].median())\n",
    "    return table   "
   ]
  },
  {
   "cell_type": "markdown",
   "metadata": {
    "_uuid": "c0961fa0182a6b2fc8cda93c5a6e2112234e5fba"
   },
   "source": [
    "Now, read the data:"
   ]
  },
  {
   "cell_type": "code",
   "execution_count": 5,
   "metadata": {
    "_uuid": "63c902c7d1d18943bd460ee15c73d8a10e5d8ff3",
    "scrolled": true
   },
   "outputs": [
    {
     "data": {
      "text/html": [
       "<div>\n",
       "<style scoped>\n",
       "    .dataframe tbody tr th:only-of-type {\n",
       "        vertical-align: middle;\n",
       "    }\n",
       "\n",
       "    .dataframe tbody tr th {\n",
       "        vertical-align: top;\n",
       "    }\n",
       "\n",
       "    .dataframe thead th {\n",
       "        text-align: right;\n",
       "    }\n",
       "</style>\n",
       "<table border=\"1\" class=\"dataframe\">\n",
       "  <thead>\n",
       "    <tr style=\"text-align: right;\">\n",
       "      <th></th>\n",
       "      <th>SeriousDlqin2yrs</th>\n",
       "      <th>age</th>\n",
       "      <th>NumberOfTime30-59DaysPastDueNotWorse</th>\n",
       "      <th>DebtRatio</th>\n",
       "      <th>NumberOfTimes90DaysLate</th>\n",
       "      <th>NumberOfTime60-89DaysPastDueNotWorse</th>\n",
       "      <th>MonthlyIncome</th>\n",
       "      <th>NumberOfDependents</th>\n",
       "    </tr>\n",
       "  </thead>\n",
       "  <tbody>\n",
       "    <tr>\n",
       "      <th>0</th>\n",
       "      <td>0</td>\n",
       "      <td>64</td>\n",
       "      <td>0</td>\n",
       "      <td>0.249908</td>\n",
       "      <td>0</td>\n",
       "      <td>0</td>\n",
       "      <td>8158.0</td>\n",
       "      <td>0.0</td>\n",
       "    </tr>\n",
       "    <tr>\n",
       "      <th>1</th>\n",
       "      <td>0</td>\n",
       "      <td>58</td>\n",
       "      <td>0</td>\n",
       "      <td>3870.000000</td>\n",
       "      <td>0</td>\n",
       "      <td>0</td>\n",
       "      <td>NaN</td>\n",
       "      <td>0.0</td>\n",
       "    </tr>\n",
       "    <tr>\n",
       "      <th>2</th>\n",
       "      <td>0</td>\n",
       "      <td>41</td>\n",
       "      <td>0</td>\n",
       "      <td>0.456127</td>\n",
       "      <td>0</td>\n",
       "      <td>0</td>\n",
       "      <td>6666.0</td>\n",
       "      <td>0.0</td>\n",
       "    </tr>\n",
       "    <tr>\n",
       "      <th>3</th>\n",
       "      <td>0</td>\n",
       "      <td>43</td>\n",
       "      <td>0</td>\n",
       "      <td>0.000190</td>\n",
       "      <td>0</td>\n",
       "      <td>0</td>\n",
       "      <td>10500.0</td>\n",
       "      <td>2.0</td>\n",
       "    </tr>\n",
       "    <tr>\n",
       "      <th>4</th>\n",
       "      <td>1</td>\n",
       "      <td>49</td>\n",
       "      <td>0</td>\n",
       "      <td>0.271820</td>\n",
       "      <td>0</td>\n",
       "      <td>0</td>\n",
       "      <td>400.0</td>\n",
       "      <td>0.0</td>\n",
       "    </tr>\n",
       "  </tbody>\n",
       "</table>\n",
       "</div>"
      ],
      "text/plain": [
       "   SeriousDlqin2yrs  age  NumberOfTime30-59DaysPastDueNotWorse    DebtRatio  \\\n",
       "0                 0   64                                     0     0.249908   \n",
       "1                 0   58                                     0  3870.000000   \n",
       "2                 0   41                                     0     0.456127   \n",
       "3                 0   43                                     0     0.000190   \n",
       "4                 1   49                                     0     0.271820   \n",
       "\n",
       "   NumberOfTimes90DaysLate  NumberOfTime60-89DaysPastDueNotWorse  \\\n",
       "0                        0                                     0   \n",
       "1                        0                                     0   \n",
       "2                        0                                     0   \n",
       "3                        0                                     0   \n",
       "4                        0                                     0   \n",
       "\n",
       "   MonthlyIncome  NumberOfDependents  \n",
       "0         8158.0                 0.0  \n",
       "1            NaN                 0.0  \n",
       "2         6666.0                 0.0  \n",
       "3        10500.0                 2.0  \n",
       "4          400.0                 0.0  "
      ]
     },
     "execution_count": 5,
     "metadata": {},
     "output_type": "execute_result"
    }
   ],
   "source": [
    "data = pd.read_csv('credit_scoring_sample.csv')\n",
    "data.head()"
   ]
  },
  {
   "cell_type": "markdown",
   "metadata": {
    "_uuid": "474023002b2a33fd2981180400c2f71050577c7d"
   },
   "source": [
    "Look at the variable types:"
   ]
  },
  {
   "cell_type": "code",
   "execution_count": 6,
   "metadata": {
    "_uuid": "8fdf8aa51c7febd4ee2d7914129888b01703b716"
   },
   "outputs": [
    {
     "data": {
      "text/plain": [
       "SeriousDlqin2yrs                          int64\n",
       "age                                       int64\n",
       "NumberOfTime30-59DaysPastDueNotWorse      int64\n",
       "DebtRatio                               float64\n",
       "NumberOfTimes90DaysLate                   int64\n",
       "NumberOfTime60-89DaysPastDueNotWorse      int64\n",
       "MonthlyIncome                           float64\n",
       "NumberOfDependents                      float64\n",
       "dtype: object"
      ]
     },
     "execution_count": 6,
     "metadata": {},
     "output_type": "execute_result"
    }
   ],
   "source": [
    "data.dtypes"
   ]
  },
  {
   "cell_type": "markdown",
   "metadata": {
    "_uuid": "4833aaafffd639f230f63c9e42e4919cbbd6210a"
   },
   "source": [
    "Check the class balance:"
   ]
  },
  {
   "cell_type": "code",
   "execution_count": 7,
   "metadata": {
    "_uuid": "35216e0b707d378f851ea1bc9602890998e1ec97"
   },
   "outputs": [
    {
     "name": "stdout",
     "output_type": "stream",
     "text": [
      "Distribution of the target:\n"
     ]
    },
    {
     "data": {
      "text/plain": [
       "0    0.777511\n",
       "1    0.222489\n",
       "Name: SeriousDlqin2yrs, dtype: float64"
      ]
     },
     "execution_count": 7,
     "metadata": {},
     "output_type": "execute_result"
    },
    {
     "data": {
      "image/png": "[encoded data removed]",
      "text/plain": [
       "<Figure size 792x576 with 1 Axes>"
      ]
     },
     "metadata": {},
     "output_type": "display_data"
    }
   ],
   "source": [
    "ax = data['SeriousDlqin2yrs'].hist(orientation='horizontal', color='red')\n",
    "ax.set_xlabel(\"number_of_observations\")\n",
    "ax.set_ylabel(\"unique_value\")\n",
    "ax.set_title(\"Target distribution\")\n",
    "\n",
    "print('Distribution of the target:')\n",
    "data['SeriousDlqin2yrs'].value_counts()/data.shape[0]"
   ]
  },
  {
   "cell_type": "markdown",
   "metadata": {
    "_uuid": "5a4cb242e76c3b015679850caac7b14db8fa1359"
   },
   "source": [
    "Separate the input variable names by excluding the target:"
   ]
  },
  {
   "cell_type": "code",
   "execution_count": 61,
   "metadata": {
    "_uuid": "4d6c4a84ed3fcb2447f11b1d0a08a0b4fefcbaf7"
   },
   "outputs": [
    {
     "data": {
      "text/plain": [
       "['age',\n",
       " 'NumberOfTime30-59DaysPastDueNotWorse',\n",
       " 'DebtRatio',\n",
       " 'NumberOfTimes90DaysLate',\n",
       " 'NumberOfTime60-89DaysPastDueNotWorse',\n",
       " 'MonthlyIncome',\n",
       " 'NumberOfDependents']"
      ]
     },
     "execution_count": 61,
     "metadata": {},
     "output_type": "execute_result"
    }
   ],
   "source": [
    "independent_columns_names = [x for x in data if x != 'SeriousDlqin2yrs']\n",
    "independent_columns_names"
   ]
  },
  {
   "cell_type": "markdown",
   "metadata": {
    "_uuid": "ad909484de236ecaf28a596fd5570aa11c07ee43"
   },
   "source": [
    "Apply the function to replace *NaN* values:"
   ]
  },
  {
   "cell_type": "code",
   "execution_count": 62,
   "metadata": {
    "_uuid": "4e1e6638b8c50ee094b8d9f3af693fda035aa8c4"
   },
   "outputs": [],
   "source": [
    "table = fill_nan(data)"
   ]
  },
  {
   "cell_type": "markdown",
   "metadata": {
    "_uuid": "9b13ec032da4e9b7eab544694132b8f58d9d5adf"
   },
   "source": [
    "Separate the target variable and input features:"
   ]
  },
  {
   "cell_type": "code",
   "execution_count": 63,
   "metadata": {
    "_uuid": "55248eae34b1abf6337dbce543195d9adef29e19"
   },
   "outputs": [],
   "source": [
    "X = table[independent_columns_names]\n",
    "y = table['SeriousDlqin2yrs']"
   ]
  },
  {
   "cell_type": "markdown",
   "metadata": {
    "_uuid": "42b04e39e04e71871fb2ff1db2295034465d8cbd"
   },
   "source": [
    "## Bootstrapping"
   ]
  },
  {
   "cell_type": "markdown",
   "metadata": {
    "_uuid": "245e80eb69b9faba586538ecf6bd0343e0748abb"
   },
   "source": [
    "**Question 2.** Make an interval estimate of the average age for the customers who delayed repayment at the 90% confidence level. Use the example from the article as reference, if needed. Also, use `np.random.seed(0)` as before. What is the resulting interval estimate?\n",
    "\n",
    "1. 52.59 – 52.86\n",
    "2. 45.71 – 46.13\n",
    "3. 45.68 – 46.17\n",
    "4. 52.56 – 52.88\n",
    "\n",
    "Solution: 2"
   ]
  },
  {
   "cell_type": "code",
   "execution_count": 16,
   "metadata": {},
   "outputs": [
    {
     "data": {
      "text/html": [
       "<div>\n",
       "<style scoped>\n",
       "    .dataframe tbody tr th:only-of-type {\n",
       "        vertical-align: middle;\n",
       "    }\n",
       "\n",
       "    .dataframe tbody tr th {\n",
       "        vertical-align: top;\n",
       "    }\n",
       "\n",
       "    .dataframe thead th {\n",
       "        text-align: right;\n",
       "    }\n",
       "</style>\n",
       "<table border=\"1\" class=\"dataframe\">\n",
       "  <thead>\n",
       "    <tr style=\"text-align: right;\">\n",
       "      <th></th>\n",
       "      <th>SeriousDlqin2yrs</th>\n",
       "      <th>age</th>\n",
       "      <th>NumberOfTime30-59DaysPastDueNotWorse</th>\n",
       "      <th>DebtRatio</th>\n",
       "      <th>NumberOfTimes90DaysLate</th>\n",
       "      <th>NumberOfTime60-89DaysPastDueNotWorse</th>\n",
       "      <th>MonthlyIncome</th>\n",
       "      <th>NumberOfDependents</th>\n",
       "    </tr>\n",
       "  </thead>\n",
       "  <tbody>\n",
       "    <tr>\n",
       "      <th>0</th>\n",
       "      <td>0</td>\n",
       "      <td>64</td>\n",
       "      <td>0</td>\n",
       "      <td>0.249908</td>\n",
       "      <td>0</td>\n",
       "      <td>0</td>\n",
       "      <td>8158.0</td>\n",
       "      <td>0.0</td>\n",
       "    </tr>\n",
       "    <tr>\n",
       "      <th>1</th>\n",
       "      <td>0</td>\n",
       "      <td>58</td>\n",
       "      <td>0</td>\n",
       "      <td>3870.000000</td>\n",
       "      <td>0</td>\n",
       "      <td>0</td>\n",
       "      <td>5166.0</td>\n",
       "      <td>0.0</td>\n",
       "    </tr>\n",
       "    <tr>\n",
       "      <th>2</th>\n",
       "      <td>0</td>\n",
       "      <td>41</td>\n",
       "      <td>0</td>\n",
       "      <td>0.456127</td>\n",
       "      <td>0</td>\n",
       "      <td>0</td>\n",
       "      <td>6666.0</td>\n",
       "      <td>0.0</td>\n",
       "    </tr>\n",
       "    <tr>\n",
       "      <th>3</th>\n",
       "      <td>0</td>\n",
       "      <td>43</td>\n",
       "      <td>0</td>\n",
       "      <td>0.000190</td>\n",
       "      <td>0</td>\n",
       "      <td>0</td>\n",
       "      <td>10500.0</td>\n",
       "      <td>2.0</td>\n",
       "    </tr>\n",
       "    <tr>\n",
       "      <th>4</th>\n",
       "      <td>1</td>\n",
       "      <td>49</td>\n",
       "      <td>0</td>\n",
       "      <td>0.271820</td>\n",
       "      <td>0</td>\n",
       "      <td>0</td>\n",
       "      <td>400.0</td>\n",
       "      <td>0.0</td>\n",
       "    </tr>\n",
       "    <tr>\n",
       "      <th>...</th>\n",
       "      <td>...</td>\n",
       "      <td>...</td>\n",
       "      <td>...</td>\n",
       "      <td>...</td>\n",
       "      <td>...</td>\n",
       "      <td>...</td>\n",
       "      <td>...</td>\n",
       "      <td>...</td>\n",
       "    </tr>\n",
       "    <tr>\n",
       "      <th>45058</th>\n",
       "      <td>1</td>\n",
       "      <td>31</td>\n",
       "      <td>0</td>\n",
       "      <td>0.824725</td>\n",
       "      <td>0</td>\n",
       "      <td>0</td>\n",
       "      <td>3000.0</td>\n",
       "      <td>1.0</td>\n",
       "    </tr>\n",
       "    <tr>\n",
       "      <th>45059</th>\n",
       "      <td>0</td>\n",
       "      <td>49</td>\n",
       "      <td>0</td>\n",
       "      <td>6530.000000</td>\n",
       "      <td>0</td>\n",
       "      <td>0</td>\n",
       "      <td>0.0</td>\n",
       "      <td>5.0</td>\n",
       "    </tr>\n",
       "    <tr>\n",
       "      <th>45060</th>\n",
       "      <td>1</td>\n",
       "      <td>38</td>\n",
       "      <td>0</td>\n",
       "      <td>0.475841</td>\n",
       "      <td>0</td>\n",
       "      <td>0</td>\n",
       "      <td>3000.0</td>\n",
       "      <td>2.0</td>\n",
       "    </tr>\n",
       "    <tr>\n",
       "      <th>45061</th>\n",
       "      <td>0</td>\n",
       "      <td>47</td>\n",
       "      <td>1</td>\n",
       "      <td>0.485198</td>\n",
       "      <td>0</td>\n",
       "      <td>0</td>\n",
       "      <td>11720.0</td>\n",
       "      <td>5.0</td>\n",
       "    </tr>\n",
       "    <tr>\n",
       "      <th>45062</th>\n",
       "      <td>1</td>\n",
       "      <td>45</td>\n",
       "      <td>2</td>\n",
       "      <td>0.802982</td>\n",
       "      <td>0</td>\n",
       "      <td>0</td>\n",
       "      <td>9120.0</td>\n",
       "      <td>2.0</td>\n",
       "    </tr>\n",
       "  </tbody>\n",
       "</table>\n",
       "<p>45063 rows × 8 columns</p>\n",
       "</div>"
      ],
      "text/plain": [
       "       SeriousDlqin2yrs  age  NumberOfTime30-59DaysPastDueNotWorse  \\\n",
       "0                     0   64                                     0   \n",
       "1                     0   58                                     0   \n",
       "2                     0   41                                     0   \n",
       "3                     0   43                                     0   \n",
       "4                     1   49                                     0   \n",
       "...                 ...  ...                                   ...   \n",
       "45058                 1   31                                     0   \n",
       "45059                 0   49                                     0   \n",
       "45060                 1   38                                     0   \n",
       "45061                 0   47                                     1   \n",
       "45062                 1   45                                     2   \n",
       "\n",
       "         DebtRatio  NumberOfTimes90DaysLate  \\\n",
       "0         0.249908                        0   \n",
       "1      3870.000000                        0   \n",
       "2         0.456127                        0   \n",
       "3         0.000190                        0   \n",
       "4         0.271820                        0   \n",
       "...            ...                      ...   \n",
       "45058     0.824725                        0   \n",
       "45059  6530.000000                        0   \n",
       "45060     0.475841                        0   \n",
       "45061     0.485198                        0   \n",
       "45062     0.802982                        0   \n",
       "\n",
       "       NumberOfTime60-89DaysPastDueNotWorse  MonthlyIncome  NumberOfDependents  \n",
       "0                                         0         8158.0                 0.0  \n",
       "1                                         0         5166.0                 0.0  \n",
       "2                                         0         6666.0                 0.0  \n",
       "3                                         0        10500.0                 2.0  \n",
       "4                                         0          400.0                 0.0  \n",
       "...                                     ...            ...                 ...  \n",
       "45058                                     0         3000.0                 1.0  \n",
       "45059                                     0            0.0                 5.0  \n",
       "45060                                     0         3000.0                 2.0  \n",
       "45061                                     0        11720.0                 5.0  \n",
       "45062                                     0         9120.0                 2.0  \n",
       "\n",
       "[45063 rows x 8 columns]"
      ]
     },
     "execution_count": 16,
     "metadata": {},
     "output_type": "execute_result"
    }
   ],
   "source": [
    "table"
   ]
  },
  {
   "cell_type": "code",
   "execution_count": 30,
   "metadata": {
    "_uuid": "0f42f4204cfa87434c31e5e09e270a42bd61850c"
   },
   "outputs": [],
   "source": [
    "def get_bootstrap_samples(data, n_samples):\n",
    "    \"\"\"Generate bootstrap samples using the bootstrap method.\"\"\"\n",
    "    indices = np.random.randint(0, len(data), (n_samples, len(data)))\n",
    "    samples = data[indices]\n",
    "    return samples\n",
    "\n",
    "def stat_intervals(stat, alpha):\n",
    "    \"\"\"Produce an interval estimate.\"\"\"\n",
    "    boundaries = np.percentile(stat, [100 * alpha / 2., 100 * (1 - alpha / 2.)])\n",
    "    return boundaries"
   ]
  },
  {
   "cell_type": "code",
   "execution_count": 31,
   "metadata": {},
   "outputs": [
    {
     "data": {
      "text/plain": [
       "(35037,)"
      ]
     },
     "execution_count": 31,
     "metadata": {},
     "output_type": "execute_result"
    }
   ],
   "source": [
    "loyal_calls.shape"
   ]
  },
  {
   "cell_type": "code",
   "execution_count": 32,
   "metadata": {},
   "outputs": [
    {
     "name": "stdout",
     "output_type": "stream",
     "text": [
      "Service calls from loyal: mean interval [52.59069983 52.85581385]\n",
      "Service calls from churn: mean interval [45.70569021 46.14615001]\n"
     ]
    }
   ],
   "source": [
    "# Save the data about the loyal and former customers to split the dataset\n",
    "loyal_calls = table.loc[table['SeriousDlqin2yrs'] == False,\n",
    "                               'age'].values\n",
    "churn_calls = table.loc[table['SeriousDlqin2yrs'] == True,\n",
    "                          'age'].values\n",
    "\n",
    "# Set the seed for reproducibility of the results\n",
    "np.random.seed(0)\n",
    "\n",
    "# Generate the samples using bootstrapping and calculate the mean for each of them\n",
    "loyal_mean_scores = [np.mean(sample) \n",
    "                       for sample in get_bootstrap_samples(loyal_calls, 1000)]\n",
    "churn_mean_scores = [np.mean(sample) \n",
    "                       for sample in get_bootstrap_samples(churn_calls, 1000)]\n",
    "\n",
    "# Print the resulting interval estimates\n",
    "print(\"Service calls from loyal: mean interval\", stat_intervals(loyal_mean_scores, 0.1))\n",
    "print(\"Service calls from churn: mean interval\", stat_intervals(churn_mean_scores, 0.1))"
   ]
  },
  {
   "cell_type": "code",
   "execution_count": 20,
   "metadata": {},
   "outputs": [
    {
     "data": {
      "text/plain": [
       "[52.68176499129492,\n",
       " 52.73382424294317,\n",
       " 52.79461711904558,\n",
       " 52.83660130718954,\n",
       " 52.79958329765676,\n",
       " 52.7432143162942,\n",
       " 52.744156177754945,\n",
       " 52.64677341096555,\n",
       " 52.86765419413763,\n",
       " 52.874903673259695,\n",
       " 52.88192482233068,\n",
       " 52.760053657562004,\n",
       " 52.83694380226618,\n",
       " 52.79852727117048,\n",
       " 52.713902445985674,\n",
       " 52.72623226874447,\n",
       " 52.74058852070668,\n",
       " 52.541713046208294,\n",
       " 52.635442532180264,\n",
       " 52.74267203242287,\n",
       " 52.710734366526815,\n",
       " 52.71632845277849,\n",
       " 52.633615891771555,\n",
       " 52.69486542797614,\n",
       " 52.733339041584614,\n",
       " 52.7707566287068,\n",
       " 52.80223763450067,\n",
       " 52.699660359049005,\n",
       " 52.68421953934412,\n",
       " 52.56768558951965,\n",
       " 52.671889716585326,\n",
       " 52.76644689899249,\n",
       " 52.74763821103405,\n",
       " 52.70690983817108,\n",
       " 52.877900505180236,\n",
       " 52.70248594343123,\n",
       " 52.69654936210292,\n",
       " 52.763678397123044,\n",
       " 52.607158147101636,\n",
       " 52.76145217912492,\n",
       " 52.702742814738706,\n",
       " 52.702371778405684,\n",
       " 52.78448497302851,\n",
       " 52.79695750206924,\n",
       " 52.67751234409339,\n",
       " 52.75137711562063,\n",
       " 52.62713702657191,\n",
       " 52.77569426606159,\n",
       " 52.697548306076435,\n",
       " 52.72232211661957,\n",
       " 52.743813682678315,\n",
       " 52.665810428975085,\n",
       " 52.56874161600594,\n",
       " 52.77164140765476,\n",
       " 52.741159345834404,\n",
       " 52.71975340354482,\n",
       " 52.83440363044781,\n",
       " 52.67508633730057,\n",
       " 52.659559893826525,\n",
       " 52.869366669520794,\n",
       " 52.694922510488915,\n",
       " 52.615492193966375,\n",
       " 52.91086565630619,\n",
       " 52.8157376487713,\n",
       " 52.769814767246054,\n",
       " 52.665182521334586,\n",
       " 52.73513714073694,\n",
       " 52.5160259154608,\n",
       " 52.734052572994266,\n",
       " 52.75151982190256,\n",
       " 52.6982332962297,\n",
       " 52.82264463281674,\n",
       " 52.637668750178385,\n",
       " 52.78616890715529,\n",
       " 52.794873990353054,\n",
       " 52.77478094585724,\n",
       " 52.71190455803865,\n",
       " 52.622199389217116,\n",
       " 52.73353883037932,\n",
       " 52.89525358906299,\n",
       " 52.7483517424437,\n",
       " 52.71695636041898,\n",
       " 52.69295316379827,\n",
       " 52.698775580101035,\n",
       " 52.632302993977795,\n",
       " 52.81085709392927,\n",
       " 52.69418043782287,\n",
       " 52.610925592944604,\n",
       " 52.5404572309273,\n",
       " 52.71413077603676,\n",
       " 52.78930844535776,\n",
       " 52.66612438279533,\n",
       " 52.61680509176014,\n",
       " 52.80783172075235,\n",
       " 52.62590975254731,\n",
       " 52.7274024602563,\n",
       " 52.8054627964723,\n",
       " 52.69072694580015,\n",
       " 52.76764563176071,\n",
       " 52.66909267345949,\n",
       " 52.5764192139738,\n",
       " 52.73593629591575,\n",
       " 52.634415046950366,\n",
       " 52.684333704369664,\n",
       " 52.68855781031481,\n",
       " 52.6520250021406,\n",
       " 52.78802408882039,\n",
       " 52.76453463481462,\n",
       " 52.71915403716071,\n",
       " 52.65425122013871,\n",
       " 52.71532950880498,\n",
       " 52.808859205982245,\n",
       " 52.79906955504181,\n",
       " 52.672489082969435,\n",
       " 52.75934012615235,\n",
       " 52.685075777035706,\n",
       " 52.67936752575849,\n",
       " 52.80112452550161,\n",
       " 52.66215714815766,\n",
       " 52.759197419870425,\n",
       " 52.77909067557154,\n",
       " 52.925221908268405,\n",
       " 52.75183377572281,\n",
       " 52.676713188914576,\n",
       " 52.71318891457602,\n",
       " 52.68379142049833,\n",
       " 52.681108542398036,\n",
       " 52.77680737506065,\n",
       " 52.66909267345949,\n",
       " 52.815109741130804,\n",
       " 52.84476410651597,\n",
       " 52.81316893569655,\n",
       " 52.567657048263264,\n",
       " 52.74972172275024,\n",
       " 52.76504837742957,\n",
       " 52.589548191911405,\n",
       " 52.739932071809804,\n",
       " 52.702828438507865,\n",
       " 52.80934440734081,\n",
       " 52.73208322630362,\n",
       " 52.59816765134001,\n",
       " 52.66934954476696,\n",
       " 52.81177041413363,\n",
       " 52.745126580472075,\n",
       " 52.690498615749064,\n",
       " 52.762793618175074,\n",
       " 52.67571424494106,\n",
       " 52.658246996032766,\n",
       " 52.712503924422755,\n",
       " 52.821645688843226,\n",
       " 52.65196791962782,\n",
       " 52.61537802894083,\n",
       " 52.545252162000175,\n",
       " 52.73102719981733,\n",
       " 52.73867625652881,\n",
       " 52.644518651711046,\n",
       " 52.70465507891657,\n",
       " 52.651225846961786,\n",
       " 52.78648286097554,\n",
       " 52.83785712247053,\n",
       " 52.692981705054656,\n",
       " 52.60695835830693,\n",
       " 52.67308844935354,\n",
       " 52.79064988440791,\n",
       " 52.69786225989668,\n",
       " 52.67839712304136,\n",
       " 52.739218540400145,\n",
       " 52.763136113251704,\n",
       " 52.75993949253646,\n",
       " 52.66815081199874,\n",
       " 52.65054085680852,\n",
       " 52.724462710848535,\n",
       " 52.6487142163998,\n",
       " 52.58286953791706,\n",
       " 52.71019208265548,\n",
       " 52.65213916716614,\n",
       " 52.679338984502095,\n",
       " 52.70631047178697,\n",
       " 52.84935924879413,\n",
       " 52.73613608471045,\n",
       " 52.66715186802523,\n",
       " 52.839912092930334,\n",
       " 52.60966977766361,\n",
       " 52.618317778348604,\n",
       " 52.742129748551534,\n",
       " 52.74078830950138,\n",
       " 52.84875988241002,\n",
       " 52.78508433941262,\n",
       " 52.724348545822984,\n",
       " 52.70573964665925,\n",
       " 52.682335816422636,\n",
       " 52.70314239232811,\n",
       " 52.64446156919828,\n",
       " 52.6448326055313,\n",
       " 52.740274566886434,\n",
       " 52.64018038074036,\n",
       " 52.67654194137626,\n",
       " 52.623940405856665,\n",
       " 52.769301024631105,\n",
       " 52.69612124325713,\n",
       " 52.87601678225875,\n",
       " 52.66840768330622,\n",
       " 52.530724662499644,\n",
       " 52.610839969175444,\n",
       " 52.8490167537175,\n",
       " 52.77620800867654,\n",
       " 52.68202186260239,\n",
       " 52.782230213774014,\n",
       " 52.748637155007565,\n",
       " 52.63744042012729,\n",
       " 52.721123383851356,\n",
       " 52.79835602363216,\n",
       " 52.63587065102606,\n",
       " 52.79398921140508,\n",
       " 52.834831749293606,\n",
       " 52.86896709193139,\n",
       " 52.67736963781146,\n",
       " 52.892228215886064,\n",
       " 52.64757256614436,\n",
       " 52.6744013471473,\n",
       " 52.606444615691984,\n",
       " 52.83882752518766,\n",
       " 52.8471615720524,\n",
       " 52.66486856751434,\n",
       " 52.75271855467078,\n",
       " 52.60330507748951,\n",
       " 52.8531266946371,\n",
       " 52.76907269458002,\n",
       " 52.919313868196475,\n",
       " 52.87673031366841,\n",
       " 52.59168878614037,\n",
       " 52.687330536290204,\n",
       " 52.550789165739076,\n",
       " 52.645489054428175,\n",
       " 52.76108114279191,\n",
       " 52.79587293432657,\n",
       " 52.70514028027514,\n",
       " 52.68944258926278,\n",
       " 52.87581699346405,\n",
       " 52.69198276108114,\n",
       " 52.69683477466678,\n",
       " 52.7037702999686,\n",
       " 52.634072551873736,\n",
       " 52.738447926477726,\n",
       " 52.695864371949654,\n",
       " 52.695778748180494,\n",
       " 52.846847618232154,\n",
       " 52.80671861175329,\n",
       " 52.82053257984416,\n",
       " 52.80472072380626,\n",
       " 52.72029568741616,\n",
       " 52.763678397123044,\n",
       " 52.73445215058367,\n",
       " 52.60524588292377,\n",
       " 52.83902731398236,\n",
       " 52.651825213345894,\n",
       " 52.678539829323284,\n",
       " 52.80240888203899,\n",
       " 52.63033364728715,\n",
       " 52.740274566886434,\n",
       " 52.849045294973884,\n",
       " 52.65196791962782,\n",
       " 52.72200816279933,\n",
       " 52.758683677255476,\n",
       " 52.9375517310272,\n",
       " 52.72640351628279,\n",
       " 52.70091617433,\n",
       " 52.71484430744641,\n",
       " 52.810800011416504,\n",
       " 52.654793504010044,\n",
       " 52.747752376059594,\n",
       " 52.85843536832491,\n",
       " 52.69101235836401,\n",
       " 52.69061278077461,\n",
       " 52.74347118760168,\n",
       " 52.67948169078403,\n",
       " 52.7984701886577,\n",
       " 52.73958957673317,\n",
       " 52.842908924850875,\n",
       " 52.776607586265946,\n",
       " 52.76696064160744,\n",
       " 52.55589805063219,\n",
       " 52.71270371321746,\n",
       " 52.657533464623114,\n",
       " 52.69212546736307,\n",
       " 52.76339298455918,\n",
       " 52.64055141707338,\n",
       " 52.82061820361332,\n",
       " 52.76382110340497,\n",
       " 52.598795558980505,\n",
       " 52.8106002226218,\n",
       " 52.619288181065734,\n",
       " 52.80209492821874,\n",
       " 52.71986756857037,\n",
       " 52.755658304078544,\n",
       " 52.770271427348234,\n",
       " 52.76142363786854,\n",
       " 52.666666666666664,\n",
       " 52.64765818991352,\n",
       " 52.79027884807489,\n",
       " 52.61671946799098,\n",
       " 52.79053571938237,\n",
       " 52.789451151639696,\n",
       " 52.74544053429232,\n",
       " 52.67497217227503,\n",
       " 52.66837914204983,\n",
       " 52.57216656677227,\n",
       " 52.66275651454177,\n",
       " 52.682935182806744,\n",
       " 52.712589548191914,\n",
       " 52.78519850443816,\n",
       " 52.804834888831806,\n",
       " 52.70613922424865,\n",
       " 52.75306104974741,\n",
       " 52.664040871079145,\n",
       " 52.70847960727231,\n",
       " 52.856894140480065,\n",
       " 52.722950024260065,\n",
       " 52.85852099209407,\n",
       " 52.646801952221935,\n",
       " 52.70673859063276,\n",
       " 52.782572708850644,\n",
       " 52.73762023004252,\n",
       " 52.85883494591432,\n",
       " 52.7565716242829,\n",
       " 52.70496903273682,\n",
       " 52.50652167708422,\n",
       " 52.72346376687502,\n",
       " 52.78397123041356,\n",
       " 52.66144361674801,\n",
       " 52.73613608471045,\n",
       " 52.69820475497331,\n",
       " 52.699745982818165,\n",
       " 52.70750920455519,\n",
       " 52.55618346319605,\n",
       " 52.68182207380769,\n",
       " 52.77446699203699,\n",
       " 52.73054199845877,\n",
       " 52.69072694580015,\n",
       " 52.78525558695094,\n",
       " 52.55786739732283,\n",
       " 52.68864343408397,\n",
       " 52.732796757713274,\n",
       " 52.70014556040757,\n",
       " 52.65864657362217,\n",
       " 52.819448012101496,\n",
       " 52.73085595227902,\n",
       " 52.70728087450409,\n",
       " 52.784342266746584,\n",
       " 52.70970688129692,\n",
       " 52.76433484601992,\n",
       " 52.843964951337156,\n",
       " 52.66706624425607,\n",
       " 52.652595827268314,\n",
       " 52.590347347090216,\n",
       " 52.745269286754,\n",
       " 52.792076947227216,\n",
       " 52.771955361475015,\n",
       " 52.644090532865256,\n",
       " 52.65370893626737,\n",
       " 52.702742814738706,\n",
       " 52.66583897023147,\n",
       " 52.61657676170905,\n",
       " 52.74655364329138,\n",
       " 52.60567400176956,\n",
       " 52.599594714159316,\n",
       " 52.73390986671233,\n",
       " 52.732796757713274,\n",
       " 52.75440248879756,\n",
       " 52.69888974512658,\n",
       " 52.81727887661615,\n",
       " 52.78716785112881,\n",
       " 52.68541827211234,\n",
       " 52.69223963238862,\n",
       " 52.7919056996889,\n",
       " 52.803664697319974,\n",
       " 52.86930958700802,\n",
       " 52.70939292747667,\n",
       " 52.792162570996375,\n",
       " 52.79064988440791,\n",
       " 52.7064531780689,\n",
       " 52.69960327653623,\n",
       " 52.72469104089962,\n",
       " 52.68895738790422,\n",
       " 52.83988355167394,\n",
       " 52.69954619402346,\n",
       " 52.58786425778463,\n",
       " 52.64563176071011,\n",
       " 52.759625538716215,\n",
       " 52.80700402431715,\n",
       " 52.69660644461569,\n",
       " 52.835345491908555,\n",
       " 52.795245026686075,\n",
       " 52.729657219510806,\n",
       " 52.67365927448126,\n",
       " 52.85267003453492,\n",
       " 52.81610868510432,\n",
       " 52.64314867140452,\n",
       " 52.68938550675001,\n",
       " 52.685760767188974,\n",
       " 52.66655250164112,\n",
       " 52.71747010303393,\n",
       " 52.693581071438764,\n",
       " 52.670120158689386,\n",
       " 52.8354596569341,\n",
       " 52.70548277535177,\n",
       " 52.7126180894483,\n",
       " 52.71047749521934,\n",
       " 53.03402117761224,\n",
       " 52.63490024830893,\n",
       " 52.84924508376859,\n",
       " 52.72588977366784,\n",
       " 52.61386534235237,\n",
       " 52.70573964665925,\n",
       " 52.70379884122499,\n",
       " 52.667922481947656,\n",
       " 52.72257898792705,\n",
       " 52.67617090504324,\n",
       " 52.75052087792905,\n",
       " 52.691040899620404,\n",
       " 52.85449667494363,\n",
       " 52.74367097639638,\n",
       " 52.786083283386134,\n",
       " 52.73296800525159,\n",
       " 52.732197391329166,\n",
       " 52.62770785169963,\n",
       " 52.685675143419815,\n",
       " 52.680223763450066,\n",
       " 52.67619944629963,\n",
       " 52.70128721066301,\n",
       " 52.84944487256329,\n",
       " 52.78790992379484,\n",
       " 52.58752176270799,\n",
       " 52.7274024602563,\n",
       " 52.59014755829551,\n",
       " 52.669149755972256,\n",
       " 52.68767303136684,\n",
       " 52.778976510545995,\n",
       " 52.73496589319862,\n",
       " 52.608927704997576,\n",
       " 52.89454005765334,\n",
       " 52.765419413762594,\n",
       " 52.6105260153552,\n",
       " 52.747238633444645,\n",
       " 52.64429032165996,\n",
       " 52.785055798156236,\n",
       " 52.78445643177213,\n",
       " 52.77717841139367,\n",
       " 52.666152924051715,\n",
       " 52.64471844050575,\n",
       " 52.737477523760596,\n",
       " 52.700887633073606,\n",
       " 52.653138111139654,\n",
       " 52.95558980506322,\n",
       " 52.6119530781745,\n",
       " 52.787852841282074,\n",
       " 52.82121756999743,\n",
       " 52.8862060107886,\n",
       " 52.645403430659016,\n",
       " 52.66067300282558,\n",
       " 52.643205753917286,\n",
       " 52.76202300425265,\n",
       " 52.83311927391044,\n",
       " 52.766304192710564,\n",
       " 52.80945857236635,\n",
       " 52.57824585438251,\n",
       " 52.600907611953076,\n",
       " 52.70080200930445,\n",
       " 52.74532636926678,\n",
       " 52.76364985586665,\n",
       " 52.78208750749208,\n",
       " 52.79162028712504,\n",
       " 52.70690983817108,\n",
       " 52.662556725747066,\n",
       " 52.790421554356826,\n",
       " 52.79099237948454,\n",
       " 52.5998230442104,\n",
       " 52.72803036789679,\n",
       " 52.68222165139709,\n",
       " 52.62331249821617,\n",
       " 52.8574364243514,\n",
       " 52.73810543140109,\n",
       " 52.73339612409738,\n",
       " 52.6606444615692,\n",
       " 52.907269458001544,\n",
       " 52.71852612952022,\n",
       " 52.652253332191684,\n",
       " 52.7491794388789,\n",
       " 52.515683420384164,\n",
       " 52.60824271484431,\n",
       " 52.687359077546596,\n",
       " 52.76773125552987,\n",
       " 52.897936467163284,\n",
       " 52.705425692839,\n",
       " 52.779347546879016,\n",
       " 52.78639723720638,\n",
       " 52.77047121614294,\n",
       " 52.6661814653081,\n",
       " 52.69800496617861,\n",
       " 52.73693523988926,\n",
       " 52.655078916573906,\n",
       " 52.86793960670148,\n",
       " 52.72948597197249,\n",
       " 52.79809915232469,\n",
       " 52.84262351228701,\n",
       " 52.73165510745783,\n",
       " 52.77754944772669,\n",
       " 52.73673545109456,\n",
       " 52.51091703056768,\n",
       " 52.605559836744014,\n",
       " 52.83605902331821,\n",
       " 52.765790450095615,\n",
       " 52.785141421925395,\n",
       " 52.829180580529155,\n",
       " 52.72808745040957,\n",
       " 52.827867682735395,\n",
       " 52.61355138853212,\n",
       " 52.78973656420356,\n",
       " 52.65193937837144,\n",
       " 52.79398921140508,\n",
       " 52.68473328195907,\n",
       " 52.64269201130234,\n",
       " 52.90738362302709,\n",
       " 52.64106515968833,\n",
       " 52.716813654137056,\n",
       " 52.88920284270914,\n",
       " 52.89191426206582,\n",
       " 52.78542683448926,\n",
       " 52.742900362473954,\n",
       " 52.78748180494905,\n",
       " 52.8046351000371,\n",
       " 52.809230242315266,\n",
       " 52.507320832263034,\n",
       " 52.76105260153552,\n",
       " 52.65065502183406,\n",
       " 52.83500299683192,\n",
       " 52.76539087250621,\n",
       " 52.81782116048748,\n",
       " 52.69466563918144,\n",
       " 52.59599851585467,\n",
       " 52.752946884721865,\n",
       " 52.774210120729514,\n",
       " 52.86323029939778,\n",
       " 52.7364500385307,\n",
       " 52.786083283386134,\n",
       " 52.766132945172245,\n",
       " 52.81716471159061,\n",
       " 52.753032508491025,\n",
       " 52.60912749379228,\n",
       " 52.712418300653596,\n",
       " 52.759454291177896,\n",
       " 52.79821331735023,\n",
       " 52.75597225789879,\n",
       " 52.790764049433456,\n",
       " 52.6639267060536,\n",
       " 52.686474298598625,\n",
       " 52.61851756714331,\n",
       " 52.68322059537061,\n",
       " 52.736763992350944,\n",
       " 52.82749664640237,\n",
       " 52.74192995975683,\n",
       " 52.80868795844393,\n",
       " 52.64466135799298,\n",
       " 52.792676313611324,\n",
       " 52.79878414247795,\n",
       " 52.75300396723464,\n",
       " 52.768958529554475,\n",
       " 52.727088506436054,\n",
       " 52.728258697947886,\n",
       " 52.81924822330679,\n",
       " 52.72646059879556,\n",
       " 52.559579872705996,\n",
       " 52.7347946456603,\n",
       " 52.70297114478979,\n",
       " 52.926449182293005,\n",
       " 52.697462682307275,\n",
       " 52.740617061963064,\n",
       " 52.679852727117044,\n",
       " 52.63929560179239,\n",
       " 52.73881896281074,\n",
       " 52.69055569826184,\n",
       " 52.68424808060051,\n",
       " 52.61012643776579,\n",
       " 52.80332220224334,\n",
       " 52.693866484002626,\n",
       " 52.75622912920627,\n",
       " 52.70491195022405,\n",
       " 52.72235065787596,\n",
       " 52.8073179781374,\n",
       " 52.69654936210292,\n",
       " 52.780375032108914,\n",
       " 52.87924194423039,\n",
       " 52.70996375260439,\n",
       " 52.81222707423581,\n",
       " 52.72235065787596,\n",
       " 52.66121528669692,\n",
       " 52.543739475411705,\n",
       " 52.83782858121415,\n",
       " 52.77392470816565,\n",
       " 52.821189028741045,\n",
       " 52.6470873647858,\n",
       " 52.69652082084654,\n",
       " 52.71955361475012,\n",
       " 52.64200702114907,\n",
       " 52.74786654108514,\n",
       " 52.73445215058367,\n",
       " 52.79510232040415,\n",
       " 52.780631903416385,\n",
       " 52.7317121899706,\n",
       " 52.56531666523961,\n",
       " 52.837885663726915,\n",
       " 52.748037788623456,\n",
       " 52.73508005822416,\n",
       " 52.77689299882981,\n",
       " 52.66815081199874,\n",
       " 52.66301338584925,\n",
       " 52.66672374917944,\n",
       " 52.74698176213717,\n",
       " 52.70733795701687,\n",
       " 52.722978565516456,\n",
       " 52.63615606358992,\n",
       " 52.70876501983617,\n",
       " 52.70930730370751,\n",
       " 52.74013186060451,\n",
       " 52.66458315495048,\n",
       " 52.737648771298915,\n",
       " 52.68701658246996,\n",
       " 52.82492793332762,\n",
       " 52.64754402488798,\n",
       " 52.65493621029198,\n",
       " 52.779775665724806,\n",
       " 52.61055455661158,\n",
       " 52.76142363786854,\n",
       " 52.85578103148101,\n",
       " 52.576818791563205,\n",
       " 52.709678340040526,\n",
       " 52.84479264777236,\n",
       " 52.64751548363159,\n",
       " 52.74429888403687,\n",
       " 52.71019208265548,\n",
       " 52.690869652082085,\n",
       " 52.60852812740817,\n",
       " 52.71070582527043,\n",
       " 52.6148357450695,\n",
       " 52.718725918314924,\n",
       " 52.76299340696978,\n",
       " 52.58241287781488,\n",
       " 52.77512344093387,\n",
       " 52.6283928418529,\n",
       " 52.65148271826926,\n",
       " 52.64209264491823,\n",
       " 52.90835402574422,\n",
       " 52.6680366469732,\n",
       " 52.77652196249679,\n",
       " 52.7921054884836,\n",
       " 52.73576504837743,\n",
       " 52.60170676713189,\n",
       " 52.69335274138768,\n",
       " 52.747495504752116,\n",
       " 52.61617718411964,\n",
       " 52.74401347147302,\n",
       " 52.72728829523076,\n",
       " 52.7462967719839,\n",
       " 52.722093786568486,\n",
       " 52.665896052744245,\n",
       " 52.73693523988926,\n",
       " 52.79906955504181,\n",
       " 52.614721580043955,\n",
       " 52.83143533978366,\n",
       " 52.80292262465394,\n",
       " 52.68573222593258,\n",
       " 52.49128064617405,\n",
       " 52.70571110540286,\n",
       " 52.69278191625995,\n",
       " 52.73859063275965,\n",
       " 52.63621314610269,\n",
       " 52.69717726974341,\n",
       " 52.773211176756,\n",
       " 52.71678511288067,\n",
       " 52.57619088392271,\n",
       " 52.76507691868596,\n",
       " 52.67560007991552,\n",
       " 52.722150869081254,\n",
       " 52.68493307075377,\n",
       " 52.71792676313611,\n",
       " 52.725233324770954,\n",
       " 52.813711219567885,\n",
       " 52.59071838342324,\n",
       " 52.76316465450809,\n",
       " 52.70693837942746,\n",
       " 52.77081371121957,\n",
       " 52.80603362160002,\n",
       " 52.75440248879756,\n",
       " 52.81122813026229,\n",
       " 52.79007905928019,\n",
       " 52.7159003339327,\n",
       " 52.680366469732,\n",
       " 52.74081685075777,\n",
       " 52.709335844963896,\n",
       " 52.734052572994266,\n",
       " 52.76644689899249,\n",
       " 52.68050917601393,\n",
       " 52.82492793332762,\n",
       " 52.80994377372492,\n",
       " 52.71647115906042,\n",
       " 52.67796900419557,\n",
       " 52.64026600450952,\n",
       " 52.76419213973799,\n",
       " 52.60712960584525,\n",
       " 52.84365099751691,\n",
       " 52.8580643319919,\n",
       " 52.74175871221851,\n",
       " 52.589548191911405,\n",
       " 52.57793190056226,\n",
       " 52.7719839027314,\n",
       " 52.635471073436655,\n",
       " 52.71695636041898,\n",
       " 52.75360333361875,\n",
       " 52.67069098381711,\n",
       " 52.698404543768014,\n",
       " 52.721722750235465,\n",
       " 52.762536746867596,\n",
       " 52.803236578474184,\n",
       " 52.74469846162628,\n",
       " 52.758569512229926,\n",
       " 52.59323001398521,\n",
       " 52.74632531324029,\n",
       " 52.601963638439365,\n",
       " 52.74215828980792,\n",
       " 52.711704769243944,\n",
       " 52.717698433085026,\n",
       " 52.718640294545764,\n",
       " 52.66672374917944,\n",
       " 52.83426092416588,\n",
       " 52.65793304221252,\n",
       " 52.73739189999144,\n",
       " 52.738447926477726,\n",
       " 52.79179153466335,\n",
       " 52.67682735394012,\n",
       " 52.6711191026629,\n",
       " 52.705910894197565,\n",
       " 52.6920683848503,\n",
       " 52.771926820218624,\n",
       " 52.813254559465705,\n",
       " 52.63367297428433,\n",
       " 52.668436224562605,\n",
       " 52.616120101606874,\n",
       " 52.66341296343865,\n",
       " 52.72546165482205,\n",
       " 52.666752290435824,\n",
       " 52.62910637326255,\n",
       " 52.76330736079002,\n",
       " 52.79213402973999,\n",
       " 52.6932956588749,\n",
       " 52.768330621913975,\n",
       " 52.815195364899964,\n",
       " 52.67931044324571,\n",
       " 52.62459685475355,\n",
       " 52.65924594000628,\n",
       " 52.574621114821475,\n",
       " 52.717241772982845,\n",
       " 52.560635899192285,\n",
       " 52.68753032508491,\n",
       " 52.79658646573622,\n",
       " 52.867168992779064,\n",
       " 52.77575134857437,\n",
       " 52.81488141107972,\n",
       " 52.83457487798613,\n",
       " 52.63213174643948,\n",
       " 52.810800011416504,\n",
       " 52.75717099066701,\n",
       " 52.81650826269372,\n",
       " 52.66261380825984,\n",
       " 52.679966892142595,\n",
       " 52.57439278477039,\n",
       " 52.65116876444901,\n",
       " 52.71210434683335,\n",
       " 52.665781887718694,\n",
       " 52.56160630190941,\n",
       " 52.64172160858521,\n",
       " 52.57624796643548,\n",
       " 52.82050403858778,\n",
       " 52.54767816879299,\n",
       " 52.856437480377885,\n",
       " 52.60601649684619,\n",
       " 52.73154094243229,\n",
       " 52.728144532922336,\n",
       " 52.727716414076546,\n",
       " 52.66972058109998,\n",
       " 52.6608442503639,\n",
       " 52.54645089476839,\n",
       " 52.87812883523133,\n",
       " 52.60264862859263,\n",
       " 52.616034477837715,\n",
       " 52.646716328452776,\n",
       " 52.6813939549619,\n",
       " 52.793561092559294,\n",
       " 52.801153066758,\n",
       " 52.72566144361675,\n",
       " 52.70782315837543,\n",
       " 52.72246482290151,\n",
       " 52.71992465108314,\n",
       " 52.660073636441474,\n",
       " 52.66743728058909,\n",
       " 52.629134914518936,\n",
       " 52.83625881211291,\n",
       " 52.76430630476354,\n",
       " 52.73142677740674,\n",
       " 52.79769957473528,\n",
       " 52.81936238833234,\n",
       " 52.710306247681025,\n",
       " 52.675571538659135,\n",
       " 52.61389388360875,\n",
       " 52.61349430601935,\n",
       " 52.71050603647573,\n",
       " 52.65493621029198,\n",
       " 52.53957245197934,\n",
       " 52.78508433941262,\n",
       " 52.72934326569055,\n",
       " 52.6678368581785,\n",
       " 52.64508947683877,\n",
       " 52.6947512629506,\n",
       " 52.693666695207924,\n",
       " 52.764106515968834,\n",
       " 52.75794160458943,\n",
       " 52.715472215086905,\n",
       " 52.78739618117989,\n",
       " 52.698775580101035,\n",
       " 52.75988241002369,\n",
       " 52.69363815395154,\n",
       " 52.86203156662956,\n",
       " 52.767188971658534,\n",
       " 52.69589291320604,\n",
       " 52.93289950623627,\n",
       " 52.69463709792505,\n",
       " 52.7524616833633,\n",
       " 52.72197962154294,\n",
       " 52.820846533664415,\n",
       " 52.76907269458002,\n",
       " 52.59362959157462,\n",
       " 52.81234123926135,\n",
       " 52.79587293432657,\n",
       " 52.63878185917744,\n",
       " 52.776236549932925,\n",
       " 52.84102520192939,\n",
       " 52.743642435139996,\n",
       " 52.78479892684876,\n",
       " 52.72003881610868,\n",
       " 52.643805120301394,\n",
       " 52.76636127522333,\n",
       " 52.73248280389303,\n",
       " 52.79358963381568,\n",
       " 52.70251448468762,\n",
       " 52.79247652481662,\n",
       " 52.758740759768244,\n",
       " 52.80480634757542,\n",
       " 52.58158518137969,\n",
       " 52.88831806376117,\n",
       " 52.881953363587066,\n",
       " 52.75423124125924,\n",
       " 52.7814310585952,\n",
       " 52.67902503068185,\n",
       " 52.69081256956931,\n",
       " 52.751633986928105,\n",
       " 52.52601535519594,\n",
       " 52.7288295230756,\n",
       " 52.820389873562235,\n",
       " 52.65696263949539,\n",
       " 52.80717527185547,\n",
       " 52.671062020150124,\n",
       " 52.73062762222793,\n",
       " 52.72320689556754,\n",
       " 52.64488968804407,\n",
       " 52.712132888089734,\n",
       " 52.6534520649599,\n",
       " 52.750406712903505,\n",
       " 52.676285070068786,\n",
       " 52.85757913063333,\n",
       " 52.69509375802723,\n",
       " 52.87045123726347,\n",
       " 52.75254730713246,\n",
       " 52.64554613694095,\n",
       " 52.640722664611694,\n",
       " 52.53631874875132,\n",
       " 52.565373747752375,\n",
       " 52.721123383851356,\n",
       " 52.63210320518309,\n",
       " 52.63093301367126,\n",
       " 52.631931957644774,\n",
       " 52.60904187002312,\n",
       " 52.73379570168679,\n",
       " 52.727345377743525,\n",
       " 52.7709564175015,\n",
       " 52.63076176613294,\n",
       " 52.72414875702828,\n",
       " 52.666152924051715,\n",
       " 52.604075691411936,\n",
       " 52.69669206838485,\n",
       " 52.63861061163912,\n",
       " 52.65733367582841,\n",
       " 52.84878842366641,\n",
       " 52.845991380540575,\n",
       " 52.69831891999886,\n",
       " 52.85135713674116,\n",
       " 52.76847332819591,\n",
       " 52.79801352855553,\n",
       " 52.74926506264806,\n",
       " 52.77121328880897,\n",
       " 52.89862145731655,\n",
       " 52.64403345035249,\n",
       " 52.71221851185889,\n",
       " 52.75280417843994,\n",
       " 52.77700716385535,\n",
       " 52.7668464765819,\n",
       " 52.62765076918686,\n",
       " 52.70762336958073,\n",
       " 52.66469731997603,\n",
       " 52.72409167451551,\n",
       " 52.76801666809373,\n",
       " 52.75317521477295,\n",
       " 52.86759711162485,\n",
       " 52.69857579130633,\n",
       " 52.67699860147844,\n",
       " 52.799640380169535,\n",
       " 52.78531266946371,\n",
       " 52.63390130433542,\n",
       " 52.766589605274426,\n",
       " 52.79045009561321,\n",
       " 52.558523846219714,\n",
       " 52.634586294488685,\n",
       " 52.72494791220709,\n",
       " 52.65011273796272,\n",
       " 52.720495476210864,\n",
       " 52.683477466678085,\n",
       " 52.82195964266347,\n",
       " 52.781516682364355,\n",
       " 52.760424693895025,\n",
       " 52.822958586636986,\n",
       " 52.81171333162086,\n",
       " 52.7023432371493,\n",
       " 52.63778291520393,\n",
       " 52.72549019607843,\n",
       " 52.55538430801724,\n",
       " 52.57213802551588,\n",
       " 52.59694037731541,\n",
       " 52.88923138396552,\n",
       " 52.66812227074236,\n",
       " 52.73102719981733,\n",
       " 52.801467020578244,\n",
       " 52.79307589120073,\n",
       " 52.78551245825841,\n",
       " 52.6035334075406,\n",
       " 52.5659445728801,\n",
       " 52.73893312783629,\n",
       " 52.791820075919745,\n",
       " 52.73804834888832,\n",
       " 52.633701515540714,\n",
       " 52.674087393327056,\n",
       " 52.61166766561064,\n",
       " 52.76727459542769,\n",
       " 52.76496275366041,\n",
       " 52.66709478551246,\n",
       " 52.6594171875446,\n",
       " 52.75628621171904,\n",
       " 52.63909581299769,\n",
       " 52.61694779804207,\n",
       " 52.7113908154237,\n",
       " 52.73416673801981,\n",
       " 52.745383451779546,\n",
       " 52.8253845934298,\n",
       " 52.785940577104206,\n",
       " 52.694836886719756,\n",
       " 52.67873961811799,\n",
       " 52.78308645146559,\n",
       " 52.77472386334446,\n",
       " 52.62590975254731,\n",
       " 52.70057367925336,\n",
       " 52.707395039529644,\n",
       " 52.8023803407826,\n",
       " 52.75129149185147,\n",
       " 52.68538973085595,\n",
       " 52.89736564203556,\n",
       " 52.815452236207435,\n",
       " 52.748123412392616,\n",
       " 52.79464566030197,\n",
       " 52.61577760653024,\n",
       " 52.641179324713875,\n",
       " 52.600108456774265,\n",
       " 52.713360162114334,\n",
       " 52.797357079658646,\n",
       " 52.69052715700545,\n",
       " 52.71886862459686,\n",
       " 52.642064103661845,\n",
       " 52.74618260695836,\n",
       " 52.71567200388161,\n",
       " 52.80905899477695,\n",
       " 52.70508319776236,\n",
       " 52.60992664897109,\n",
       " 52.732711133944115,\n",
       " 52.86754002911208]"
      ]
     },
     "execution_count": 20,
     "metadata": {},
     "output_type": "execute_result"
    }
   ],
   "source": [
    "loyal_mean_scores"
   ]
  },
  {
   "cell_type": "code",
   "execution_count": 22,
   "metadata": {},
   "outputs": [
    {
     "data": {
      "text/plain": [
       "array([[63, 28, 88, ..., 66, 56, 80],\n",
       "       [51, 69, 43, ..., 34, 82, 50],\n",
       "       [63, 53, 52, ..., 86, 49, 58],\n",
       "       ...,\n",
       "       [79, 41, 32, ..., 47, 52, 59],\n",
       "       [57, 67, 47, ..., 56, 31, 54],\n",
       "       [53, 35, 68, ..., 34, 26, 59]], dtype=int64)"
      ]
     },
     "execution_count": 22,
     "metadata": {},
     "output_type": "execute_result"
    }
   ],
   "source": [
    "get_bootstrap_samples(loyal_calls, 1000)"
   ]
  },
  {
   "cell_type": "markdown",
   "metadata": {
    "_uuid": "0aa59947da5e312e6bb5067bb16ae656a8a8e500"
   },
   "source": [
    "## Logistic regression"
   ]
  },
  {
   "cell_type": "markdown",
   "metadata": {
    "_uuid": "4f046164d4d94ed0b2ee0ebe7f4bfff460d0505a"
   },
   "source": [
    "Let's set up to use logistic regression:"
   ]
  },
  {
   "cell_type": "code",
   "execution_count": 35,
   "metadata": {
    "_uuid": "fea9173ba030a164de7d4da05d83bce7a881e92f"
   },
   "outputs": [],
   "source": [
    "from sklearn.linear_model import LogisticRegression\n",
    "from sklearn.model_selection import GridSearchCV, StratifiedKFold"
   ]
  },
  {
   "cell_type": "markdown",
   "metadata": {
    "_uuid": "c44b5d33184b81809b2747b2d2f5150b13b65e8f"
   },
   "source": [
    "Now, we will create a `LogisticRegression` model and use `class_weight='balanced'` to make up for our unbalanced classes."
   ]
  },
  {
   "cell_type": "code",
   "execution_count": 36,
   "metadata": {
    "_uuid": "92292d0240a272fc6c3948069ef2fc0b9f165926"
   },
   "outputs": [],
   "source": [
    "lr = LogisticRegression(random_state=5, class_weight='balanced')"
   ]
  },
  {
   "cell_type": "markdown",
   "metadata": {
    "_uuid": "24e5007b98c985443af75a02a858e85fc72a693a"
   },
   "source": [
    "Let's try to find the best regularization coefficient, which is the coefficient `C` for logistic regression. Then, we will have an optimal model that is not overfit and is a good predictor of the target variable."
   ]
  },
  {
   "cell_type": "code",
   "execution_count": 37,
   "metadata": {
    "_uuid": "77fff55d1042a6b6b906e4f8af2e977966e9ad55"
   },
   "outputs": [],
   "source": [
    "parameters = {'C': (0.0001, 0.001, 0.01, 0.1, 1, 10)}"
   ]
  },
  {
   "cell_type": "code",
   "execution_count": 71,
   "metadata": {},
   "outputs": [],
   "source": [
    "skf = StratifiedKFold(n_splits=5, shuffle=True, random_state=5)"
   ]
  },
  {
   "cell_type": "code",
   "execution_count": 73,
   "metadata": {},
   "outputs": [
    {
     "name": "stdout",
     "output_type": "stream",
     "text": [
      "Best roc_auc: 0.8089, with best C: {'C': 0.001}\n"
     ]
    }
   ],
   "source": [
    "clf = GridSearchCV(lr,parameters,scoring='roc_auc',cv=skf, n_jobs=-1)\n",
    "clf.fit(X,y)\n",
    "print('Best roc_auc: {:.4}, with best C: {}'.format(clf.best_score_, clf.best_params_))"
   ]
  },
  {
   "cell_type": "code",
   "execution_count": 72,
   "metadata": {},
   "outputs": [
    {
     "data": {
      "text/plain": [
       "(LogisticRegression(C=0.001, class_weight='balanced', random_state=5),\n",
       " 0.8089120626797153)"
      ]
     },
     "execution_count": 72,
     "metadata": {},
     "output_type": "execute_result"
    }
   ],
   "source": [
    "grid_search = GridSearchCV(lr, parameters, n_jobs=-1, scoring='roc_auc', cv=skf)\n",
    "grid_search = grid_search.fit(X, y)\n",
    "grid_search.best_estimator_, grid_search.best_score_"
   ]
  },
  {
   "cell_type": "markdown",
   "metadata": {
    "_uuid": "c350a2bb023dd8ea2261fefee539ae70408586e6"
   },
   "source": [
    "In order to find the optimal value of `C`, let's apply stratified 5-fold validation and look at the *ROC AUC* against different values of the parameter `C`. Use the `StratifiedKFold` function for this: "
   ]
  },
  {
   "cell_type": "code",
   "execution_count": 65,
   "metadata": {},
   "outputs": [
    {
     "data": {
      "text/plain": [
       "0.0048970295573890635"
      ]
     },
     "execution_count": 65,
     "metadata": {},
     "output_type": "execute_result"
    }
   ],
   "source": [
    "np.std(cv_score)"
   ]
  },
  {
   "cell_type": "markdown",
   "metadata": {
    "_uuid": "f0bd594310bed9b8664fccbad367ec40b2494ef9"
   },
   "source": [
    "One of the important metrics of model quality is the *Area Under the Curve (AUC)*. *ROC AUC* varies from 0 to 1. The closer ROC AUC is to 1, the better the quality of the classification model."
   ]
  },
  {
   "cell_type": "markdown",
   "metadata": {
    "_uuid": "47ff20f56a9496a90057141c671f4534c4d8f435",
    "collapsed": true
   },
   "source": [
    "**Question 3.** Perform a *Grid Search* with the scoring metric \"roc_auc\" for the parameter `C`. Which value of the parameter `C` is optimal? \n",
    "\n",
    "1. 0.0001\n",
    "2. 0.001\n",
    "3. 0.01\n",
    "4. 0.1\n",
    "5. 1\n",
    "6. 10"
   ]
  },
  {
   "cell_type": "markdown",
   "metadata": {
    "_uuid": "ea814fc22242f846757a81fda5d63b1e8d71b81c",
    "collapsed": true
   },
   "source": [
    "2"
   ]
  },
  {
   "cell_type": "markdown",
   "metadata": {
    "_uuid": "ca2e0d2ea8660f676352b0bd60e44e27b621f87a"
   },
   "source": [
    "**Question 4.** Can we consider the best model stable? The model is *stable* if the standard deviation on validation is less than 0.5%. Save the *ROC AUC* value of the best model; it will be useful for the following tasks.\n",
    "\n",
    "1. Yes\n",
    "2. No"
   ]
  },
  {
   "cell_type": "code",
   "execution_count": 76,
   "metadata": {},
   "outputs": [
    {
     "data": {
      "text/plain": [
       "0.008137559189742445"
      ]
     },
     "execution_count": 76,
     "metadata": {},
     "output_type": "execute_result"
    }
   ],
   "source": [
    "grid_search.cv_results_['std_test_score'][1]"
   ]
  },
  {
   "cell_type": "markdown",
   "metadata": {
    "_uuid": "27e2211b96120fad6ed989c4b55a033184b442ac",
    "collapsed": true
   },
   "source": [
    "NO"
   ]
  },
  {
   "cell_type": "code",
   "execution_count": 77,
   "metadata": {},
   "outputs": [
    {
     "data": {
      "text/plain": [
       "0.8089120626797153"
      ]
     },
     "execution_count": 77,
     "metadata": {},
     "output_type": "execute_result"
    }
   ],
   "source": [
    "grid_search.best_score_"
   ]
  },
  {
   "cell_type": "markdown",
   "metadata": {
    "_uuid": "eed75eaefb5defeaef3a062d957171c02f94868c"
   },
   "source": [
    "## Feature importance\n",
    "\n",
    "**Question 5.** *Feature importance* is defined by the absolute value of its corresponding coefficient. First, you need to normalize all of the feature values so that it will be valid to compare them. What is the most important feature for the best logistic regression model?\n",
    "\n",
    "1. age\n",
    "2. NumberOfTime30-59DaysPastDueNotWorse\n",
    "3. DebtRatio\n",
    "4. NumberOfTimes90DaysLate\n",
    "5. NumberOfTime60-89DaysPastDueNotWorse\n",
    "6. MonthlyIncome\n",
    "7. NumberOfDependents\n",
    "\n",
    "2"
   ]
  },
  {
   "cell_type": "code",
   "execution_count": 51,
   "metadata": {
    "_uuid": "42af010963a6d4c1526c3499031dcec274a2b460"
   },
   "outputs": [
    {
     "data": {
      "text/plain": [
       "array([[-1.47291561e-02,  4.83427392e-01, -3.30703105e-06,\n",
       "         4.31520088e-01,  2.26162341e-01, -1.01962280e-05,\n",
       "         1.97029263e-01]])"
      ]
     },
     "execution_count": 51,
     "metadata": {},
     "output_type": "execute_result"
    }
   ],
   "source": [
    "lr.coef_"
   ]
  },
  {
   "cell_type": "code",
   "execution_count": 52,
   "metadata": {},
   "outputs": [],
   "source": [
    "from sklearn.preprocessing import normalize"
   ]
  },
  {
   "cell_type": "code",
   "execution_count": 57,
   "metadata": {},
   "outputs": [
    {
     "name": "stdout",
     "output_type": "stream",
     "text": [
      "Best roc_auc: 0.6526, with best C: {'C': 10}\n"
     ]
    }
   ],
   "source": [
    "X = pd.DataFrame(normalize(X))\n",
    "lr = LogisticRegression(random_state=5, class_weight='balanced')\n",
    "clf = GridSearchCV(lr,parameters,scoring='roc_auc',refit=True,cv=10)\n",
    "clf.fit(X,y)\n",
    "print('Best roc_auc: {:.4}, with best C: {}'.format(clf.best_score_, clf.best_params_))"
   ]
  },
  {
   "cell_type": "code",
   "execution_count": 58,
   "metadata": {},
   "outputs": [
    {
     "name": "stdout",
     "output_type": "stream",
     "text": [
      "1 of KFold 5\n",
      "ROC AUC score: 0.5326505368997597\n",
      "2 of KFold 5\n",
      "ROC AUC score: 0.5268061652375909\n",
      "3 of KFold 5\n",
      "ROC AUC score: 0.5353112561843512\n",
      "4 of KFold 5\n",
      "ROC AUC score: 0.536344204424005\n",
      "5 of KFold 5\n",
      "ROC AUC score: 0.5417981733264954\n"
     ]
    }
   ],
   "source": [
    "from sklearn.metrics import confusion_matrix, roc_auc_score ,roc_curve,auc\n",
    "\n",
    "kf = StratifiedKFold(n_splits=5,shuffle=True,random_state=5)\n",
    "pred_test_full =0\n",
    "cv_score =[]\n",
    "i=1\n",
    "for train_index,test_index in kf.split(X,y):\n",
    "    print('{} of KFold {}'.format(i,kf.n_splits))\n",
    "    xtr,xvl = X.loc[train_index],X.loc[test_index]\n",
    "    ytr,yvl = y.loc[train_index],y.loc[test_index]\n",
    "    \n",
    "    #model\n",
    "    lr = LogisticRegression(random_state=5, class_weight='balanced', C=10)\n",
    "    lr.fit(xtr,ytr)\n",
    "    score = roc_auc_score(yvl,lr.predict(xvl))\n",
    "    print('ROC AUC score:',score)\n",
    "    cv_score.append(score)    \n",
    "#     pred_test = lr.predict_proba(x_test)[:,1]\n",
    "#     pred_test_full +=pred_test\n",
    "    i+=1"
   ]
  },
  {
   "cell_type": "code",
   "execution_count": 59,
   "metadata": {},
   "outputs": [
    {
     "data": {
      "text/plain": [
       "array([[-2.16389795, 21.20990844, -0.79023953, 20.84644765, 12.71189859,\n",
       "        -0.5965385 ,  9.50076731]])"
      ]
     },
     "execution_count": 59,
     "metadata": {},
     "output_type": "execute_result"
    }
   ],
   "source": [
    "lr.coef_"
   ]
  },
  {
   "cell_type": "markdown",
   "metadata": {
    "_uuid": "a59758c51a56ff502021f9aaccd3493f4c848e16"
   },
   "source": [
    "**Question 6.** Calculate how much `DebtRatio` affects our prediction using the [softmax function](https://en.wikipedia.org/wiki/Softmax_function). What is its value?\n",
    "\n",
    "1. 0.38\n",
    "2. -0.02\n",
    "3. 0.11\n",
    "4. 0.24"
   ]
  },
  {
   "cell_type": "code",
   "execution_count": 18,
   "metadata": {
    "_uuid": "de4195b2f9012f17ad3b2999622404c303d4fd0a",
    "collapsed": true
   },
   "outputs": [],
   "source": [
    "# Your code here"
   ]
  },
  {
   "cell_type": "markdown",
   "metadata": {
    "_uuid": "82f94fb1ddc235250d7af7156cf69280daa317f5"
   },
   "source": [
    "**Question 7.** Let's see how we can interpret the impact of our features. For this, recalculate the logistic regression with absolute values, that is without scaling. Next, modify the customer's age by adding 20 years, keeping the other features unchanged. How many times will the chance that the customer will not repay their debt increase? You can find an example of the theoretical calculation [here](https://www.unm.edu/~schrader/biostat/bio2/Spr06/lec11.pdf).\n",
    "\n",
    "1. -0.01\n",
    "2. 0.70\n",
    "3. 8.32\n",
    "4. 0.66"
   ]
  },
  {
   "cell_type": "code",
   "execution_count": 19,
   "metadata": {
    "_uuid": "988fd621a0f8b9cee200d1798a1535c941615dab",
    "collapsed": true
   },
   "outputs": [],
   "source": [
    "# Your code here"
   ]
  },
  {
   "cell_type": "markdown",
   "metadata": {
    "_uuid": "99d5aa4076c7064d4834ea32fa63a59da16c4b2d"
   },
   "source": [
    "## Random Forest"
   ]
  },
  {
   "cell_type": "markdown",
   "metadata": {
    "_uuid": "02f4dfa9d98b7663df6637e6bfe2ff8e43950905"
   },
   "source": [
    "Import the Random Forest classifier:"
   ]
  },
  {
   "cell_type": "code",
   "execution_count": 79,
   "metadata": {
    "_uuid": "8252905ea996ff08abc33560f7d144af8c53b56d"
   },
   "outputs": [],
   "source": [
    "from sklearn.ensemble import RandomForestClassifier"
   ]
  },
  {
   "cell_type": "markdown",
   "metadata": {
    "_uuid": "e4e84e4a9edb9ded1e5e5bfcde49c7c116e82cf1"
   },
   "source": [
    "Initialize Random Forest with 100 trees and balance target classes:"
   ]
  },
  {
   "cell_type": "code",
   "execution_count": 80,
   "metadata": {
    "_uuid": "d9fcfad198b9bc5f66c916b8179b2edf7d1d6067"
   },
   "outputs": [],
   "source": [
    "rf = RandomForestClassifier(n_estimators=100, n_jobs=-1, random_state=42, \n",
    "                            class_weight='balanced')"
   ]
  },
  {
   "cell_type": "markdown",
   "metadata": {
    "_uuid": "bcea3461d96645b75836cbb547c758036f6af715"
   },
   "source": [
    "We will search for the best parameters among the following values:"
   ]
  },
  {
   "cell_type": "code",
   "execution_count": 81,
   "metadata": {
    "_uuid": "4b04ae1ed65286fbd4e90511f524de20177f580a"
   },
   "outputs": [],
   "source": [
    "parameters = {'max_features': [1, 2, 4], 'min_samples_leaf': [3, 5, 7, 9], 'max_depth': [5,10,15]}"
   ]
  },
  {
   "cell_type": "markdown",
   "metadata": {
    "_uuid": "74eb21e19cc3f6b819a438431a7781ffe6c3c9eb"
   },
   "source": [
    "Also, we will use the stratified k-fold validation again. You should still have the `skf` variable."
   ]
  },
  {
   "cell_type": "code",
   "execution_count": 82,
   "metadata": {},
   "outputs": [
    {
     "data": {
      "text/plain": [
       "(RandomForestClassifier(class_weight='balanced', max_depth=10, max_features=2,\n",
       "                        min_samples_leaf=9, n_jobs=-1, random_state=42),\n",
       " 0.8357327333345677)"
      ]
     },
     "execution_count": 82,
     "metadata": {},
     "output_type": "execute_result"
    }
   ],
   "source": [
    "grid_search = GridSearchCV(rf, parameters, n_jobs=-1, scoring='roc_auc', cv=skf)\n",
    "grid_search = grid_search.fit(X, y)\n",
    "grid_search.best_estimator_, grid_search.best_score_"
   ]
  },
  {
   "cell_type": "markdown",
   "metadata": {
    "_uuid": "a9a00dd2fc41cb30c83525e6129bfd8c13fa5492"
   },
   "source": [
    "**Question 8.** How much higher is the *ROC AUC* of the best random forest model than that of the best logistic regression on validation?\n",
    "\n",
    "1. 4%\n",
    "2. 3%\n",
    "3. 2%\n",
    "4. 1%"
   ]
  },
  {
   "cell_type": "code",
   "execution_count": 23,
   "metadata": {
    "_uuid": "f7adb918cb3a5b3b45527e77ca0eb70f78ecce55",
    "collapsed": true
   },
   "outputs": [],
   "source": [
    "2"
   ]
  },
  {
   "cell_type": "markdown",
   "metadata": {
    "_uuid": "8be735e7919d87d06dd627ec1885d0ef72f032e0"
   },
   "source": [
    "**Question 9.** What feature has the weakest impact in the Random Forest model?\n",
    "\n",
    "1. age\n",
    "2. NumberOfTime30-59DaysPastDueNotWorse\n",
    "3. DebtRatio\n",
    "4. NumberOfTimes90DaysLate\n",
    "5. NumberOfTime60-89DaysPastDueNotWorse\n",
    "6. MonthlyIncome\n",
    "7. NumberOfDependents"
   ]
  },
  {
   "cell_type": "code",
   "execution_count": 85,
   "metadata": {
    "_uuid": "bbb93f0ced33c8a65894bfd0bb26c5fbe534394c"
   },
   "outputs": [
    {
     "data": {
      "text/plain": [
       "'NumberOfDependents'"
      ]
     },
     "execution_count": 85,
     "metadata": {},
     "output_type": "execute_result"
    }
   ],
   "source": [
    "independent_columns_names[np.argmin(grid_search.best_estimator_.feature_importances_)]"
   ]
  },
  {
   "cell_type": "code",
   "execution_count": 87,
   "metadata": {},
   "outputs": [
    {
     "data": {
      "text/plain": [
       "'NumberOfTime30-59DaysPastDueNotWorse'"
      ]
     },
     "execution_count": 87,
     "metadata": {},
     "output_type": "execute_result"
    }
   ],
   "source": [
    "independent_columns_names[np.argmax(grid_search.best_estimator_.feature_importances_)]"
   ]
  },
  {
   "cell_type": "code",
   "execution_count": 86,
   "metadata": {},
   "outputs": [
    {
     "data": {
      "text/plain": [
       "array([0.11558728, 0.30101098, 0.0761183 , 0.27844665, 0.1562167 ,\n",
       "       0.05827661, 0.01434349])"
      ]
     },
     "execution_count": 86,
     "metadata": {},
     "output_type": "execute_result"
    }
   ],
   "source": [
    "grid_search.best_estimator_.feature_importances_"
   ]
  },
  {
   "cell_type": "markdown",
   "metadata": {
    "_uuid": "6b4e8cf8f503365cf8d877a8bca477b53ec0bd81"
   },
   "source": [
    "**Question 10.** What is the most significant advantage of using *Logistic Regression* versus *Random Forest* for this problem?\n",
    "\n",
    "1. Spent less time for model fitting;\n",
    "2. Fewer variables to iterate;\n",
    "3. Feature interpretability;\n",
    "4. Linear properties of the algorithm."
   ]
  },
  {
   "cell_type": "code",
   "execution_count": null,
   "metadata": {},
   "outputs": [],
   "source": [
    "1, 4"
   ]
  },
  {
   "cell_type": "markdown",
   "metadata": {
    "_uuid": "e409eaafe9afbebc52c02ba218107f9fde6eb54c"
   },
   "source": [
    "## Bagging"
   ]
  },
  {
   "cell_type": "markdown",
   "metadata": {
    "_uuid": "094bd877f40d72cf269e0395fd7d6e070bce8701"
   },
   "source": [
    "Import modules and set up the parameters for bagging:"
   ]
  },
  {
   "cell_type": "code",
   "execution_count": 89,
   "metadata": {
    "_uuid": "ea666be2e57e478428cc553fd7e2ecd5d7ca8bee"
   },
   "outputs": [],
   "source": [
    "from sklearn.ensemble import BaggingClassifier\n",
    "from sklearn.model_selection import cross_val_score, RandomizedSearchCV\n",
    "\n",
    "parameters = {'max_features': [2, 3, 4], 'max_samples': [0.5, 0.7, 0.9], \n",
    "              'base_estimator__C': [0.0001, 0.001, 0.01, 1, 10, 100]}"
   ]
  },
  {
   "cell_type": "code",
   "execution_count": 93,
   "metadata": {},
   "outputs": [
    {
     "data": {
      "text/plain": [
       "(BaggingClassifier(base_estimator=LogisticRegression(C=100,\n",
       "                                                     class_weight='balanced',\n",
       "                                                     random_state=5),\n",
       "                   max_features=2, max_samples=0.9, n_estimators=100,\n",
       "                   random_state=42),\n",
       " 0.8087951623513827)"
      ]
     },
     "execution_count": 93,
     "metadata": {},
     "output_type": "execute_result"
    }
   ],
   "source": [
    "lr = LogisticRegression(random_state=5, class_weight='balanced')\n",
    "bc = BaggingClassifier(lr, random_state=42, n_estimators=100)\n",
    "randSearch_bc_lr = RandomizedSearchCV(bc, parameters, n_iter=20, cv=skf, random_state=1, scoring='roc_auc')\n",
    "randSearch_bc_lr = randSearch_bc_lr.fit(X, y)\n",
    "randSearch_bc_lr.best_estimator_, randSearch_bc_lr.best_score_"
   ]
  },
  {
   "cell_type": "markdown",
   "metadata": {
    "_uuid": "98db8aa7f3e6ae450091a61ac187cad6dc0a05aa"
   },
   "source": [
    "**Question 11.** Fit a bagging classifier with `random_state=42`. For the base classifiers, use 100 logistic regressors and use `RandomizedSearchCV` instead of `GridSearchCV`. It will take a lot of time to iterate over all 54 variants, so set the maximum number of iterations for `RandomizedSearchCV` to 20. Don't forget to set the parameters `cv` and `random_state=1`. What is the best *ROC AUC* you achieve?\n",
    "\n",
    "1. 80.75%\n",
    "2. 80.12%\n",
    "3. 79.62%\n",
    "4. 76.50%"
   ]
  },
  {
   "cell_type": "code",
   "execution_count": 26,
   "metadata": {
    "_uuid": "2c2e9cc7930cc6c3816f8538385d1f78c12b104b",
    "collapsed": true
   },
   "outputs": [],
   "source": [
    "# Your code here"
   ]
  },
  {
   "cell_type": "markdown",
   "metadata": {
    "_uuid": "09590fe9a20e8ab33fb09dc14ddc2862646e01b5",
    "collapsed": true
   },
   "source": [
    "**Question 12.** Give an interpretation of the best parameters for bagging. Why are these values of `max_features` and `max_samples` the best?\n",
    "\n",
    "1. For bagging it's important to use as few features as possible;\n",
    "2. Bagging works better on small samples;\n",
    "3. Less correlation between single models;\n",
    "4. The higher the number of features, the lower the loss of information."
   ]
  }
 ],
 "metadata": {
  "anaconda-cloud": {},
  "kernelspec": {
   "display_name": "Python 3",
   "language": "python",
   "name": "python3"
  },
  "language_info": {
   "codemirror_mode": {
    "name": "ipython",
    "version": 3
   },
   "file_extension": ".py",
   "mimetype": "text/x-python",
   "name": "python",
   "nbconvert_exporter": "python",
   "pygments_lexer": "ipython3",
   "version": "3.8.3"
  }
 },
 "nbformat": 4,
 "nbformat_minor": 1
}

{
 "cells": [
  {
   "cell_type": "code",
   "execution_count": 28,
   "metadata": {},
   "outputs": [],
   "source": [
    "# табличное представление данных\n",
    "import pandas as pd\n",
    "import numpy as np\n",
    "\n",
    "# стемминг\n",
    "from nltk.stem.snowball import SnowballStemmer \n",
    "from nltk.tokenize import word_tokenize\n",
    "\n",
    "import string\n",
    "import re\n",
    "import pymorphy2\n",
    "morph = pymorphy2.MorphAnalyzer()\n",
    "\n",
    "import os"
   ]
  },
  {
   "cell_type": "code",
   "execution_count": 29,
   "metadata": {},
   "outputs": [],
   "source": [
    "family = pd.read_excel('true_vent_family_check.xlsx', header=0)\n",
    "grand= pd.read_excel('all_vent_new_send.xlsx', header=0)"
   ]
  },
  {
   "cell_type": "code",
   "execution_count": 30,
   "metadata": {},
   "outputs": [
    {
     "output_type": "execute_result",
     "data": {
      "text/plain": [
       "   Воздухо - производительность  Напор  \\\n",
       "0                           150    150   \n",
       "1                           150    150   \n",
       "2                           150    150   \n",
       "3                           150    150   \n",
       "4                           150    150   \n",
       "\n",
       "                                            Название  \\\n",
       "0  Тип исполнения крышный, уличного исполнения Вы...   \n",
       "1  Крышная вытяжная установка уличного исполнения...   \n",
       "2  Вытяжной вентиляционный агрегат крышного испол...   \n",
       "3  Вытяжной вентиляционный агрегат крышного испол...   \n",
       "4  Вентиляционна вытяжная установка крышного испо...   \n",
       "\n",
       "                        GrandTenderHash  \n",
       "0  4153669e-179a-2ff5-8678-ac8d3199e248  \n",
       "1  4153669e-179a-2ff5-8678-ac8d3199e248  \n",
       "2  4153669e-179a-2ff5-8678-ac8d3199e249  \n",
       "3  4153669e-179a-2ff5-8678-ac8d3199e250  \n",
       "4  4153669e-179a-2ff5-8678-ac8d3199e251  "
      ],
      "text/html": "<div>\n<style scoped>\n    .dataframe tbody tr th:only-of-type {\n        vertical-align: middle;\n    }\n\n    .dataframe tbody tr th {\n        vertical-align: top;\n    }\n\n    .dataframe thead th {\n        text-align: right;\n    }\n</style>\n<table border=\"1\" class=\"dataframe\">\n  <thead>\n    <tr style=\"text-align: right;\">\n      <th></th>\n      <th>Воздухо - производительность</th>\n      <th>Напор</th>\n      <th>Название</th>\n      <th>GrandTenderHash</th>\n    </tr>\n  </thead>\n  <tbody>\n    <tr>\n      <th>0</th>\n      <td>150</td>\n      <td>150</td>\n      <td>Тип исполнения крышный, уличного исполнения Вы...</td>\n      <td>4153669e-179a-2ff5-8678-ac8d3199e248</td>\n    </tr>\n    <tr>\n      <th>1</th>\n      <td>150</td>\n      <td>150</td>\n      <td>Крышная вытяжная установка уличного исполнения...</td>\n      <td>4153669e-179a-2ff5-8678-ac8d3199e248</td>\n    </tr>\n    <tr>\n      <th>2</th>\n      <td>150</td>\n      <td>150</td>\n      <td>Вытяжной вентиляционный агрегат крышного испол...</td>\n      <td>4153669e-179a-2ff5-8678-ac8d3199e249</td>\n    </tr>\n    <tr>\n      <th>3</th>\n      <td>150</td>\n      <td>150</td>\n      <td>Вытяжной вентиляционный агрегат крышного испол...</td>\n      <td>4153669e-179a-2ff5-8678-ac8d3199e250</td>\n    </tr>\n    <tr>\n      <th>4</th>\n      <td>150</td>\n      <td>150</td>\n      <td>Вентиляционна вытяжная установка крышного испо...</td>\n      <td>4153669e-179a-2ff5-8678-ac8d3199e251</td>\n    </tr>\n  </tbody>\n</table>\n</div>"
     },
     "metadata": {},
     "execution_count": 30
    }
   ],
   "source": [
    "family.head()\n"
   ]
  },
  {
   "cell_type": "code",
   "execution_count": 31,
   "metadata": {},
   "outputs": [
    {
     "output_type": "execute_result",
     "data": {
      "text/plain": [
       "      id                               Хэш-код  \\\n",
       "0  26558  b4ceac0d-23e8-952c-e8e8-83b43d5db298   \n",
       "1  26557  39b625d7-cd5f-68ba-64b0-a3298fbb0603   \n",
       "2  26556  cbee6473-bead-d32d-97a5-437b2db61bb3   \n",
       "3  26555  d9b50bd7-4f1c-d80e-a457-801adf2c65d5   \n",
       "4  26554  269a68a7-1664-90a4-d96c-939518fc77d1   \n",
       "\n",
       "                                            Название  \\\n",
       "0  Тип исполнения крышное Вытяжной вентилятор в к...   \n",
       "1  Тип исполнения подвесной Канальные установки в...   \n",
       "2  Тип исполнения подвесной Канальные установки в...   \n",
       "3  Тип исполнения подвесной Канальные установки в...   \n",
       "4  Тип исполнения подвесной Канальные установки в...   \n",
       "\n",
       "   Воздухо - производительность Напор  \n",
       "0                          2630   120  \n",
       "1                           168   110  \n",
       "2                           440   120  \n",
       "3                           510   160  \n",
       "4                           620   160  "
      ],
      "text/html": "<div>\n<style scoped>\n    .dataframe tbody tr th:only-of-type {\n        vertical-align: middle;\n    }\n\n    .dataframe tbody tr th {\n        vertical-align: top;\n    }\n\n    .dataframe thead th {\n        text-align: right;\n    }\n</style>\n<table border=\"1\" class=\"dataframe\">\n  <thead>\n    <tr style=\"text-align: right;\">\n      <th></th>\n      <th>id</th>\n      <th>Хэш-код</th>\n      <th>Название</th>\n      <th>Воздухо - производительность</th>\n      <th>Напор</th>\n    </tr>\n  </thead>\n  <tbody>\n    <tr>\n      <th>0</th>\n      <td>26558</td>\n      <td>b4ceac0d-23e8-952c-e8e8-83b43d5db298</td>\n      <td>Тип исполнения крышное Вытяжной вентилятор в к...</td>\n      <td>2630</td>\n      <td>120</td>\n    </tr>\n    <tr>\n      <th>1</th>\n      <td>26557</td>\n      <td>39b625d7-cd5f-68ba-64b0-a3298fbb0603</td>\n      <td>Тип исполнения подвесной Канальные установки в...</td>\n      <td>168</td>\n      <td>110</td>\n    </tr>\n    <tr>\n      <th>2</th>\n      <td>26556</td>\n      <td>cbee6473-bead-d32d-97a5-437b2db61bb3</td>\n      <td>Тип исполнения подвесной Канальные установки в...</td>\n      <td>440</td>\n      <td>120</td>\n    </tr>\n    <tr>\n      <th>3</th>\n      <td>26555</td>\n      <td>d9b50bd7-4f1c-d80e-a457-801adf2c65d5</td>\n      <td>Тип исполнения подвесной Канальные установки в...</td>\n      <td>510</td>\n      <td>160</td>\n    </tr>\n    <tr>\n      <th>4</th>\n      <td>26554</td>\n      <td>269a68a7-1664-90a4-d96c-939518fc77d1</td>\n      <td>Тип исполнения подвесной Канальные установки в...</td>\n      <td>620</td>\n      <td>160</td>\n    </tr>\n  </tbody>\n</table>\n</div>"
     },
     "metadata": {},
     "execution_count": 31
    }
   ],
   "source": [
    "grand.head()"
   ]
  },
  {
   "cell_type": "code",
   "execution_count": 32,
   "metadata": {},
   "outputs": [
    {
     "output_type": "execute_result",
     "data": {
      "text/plain": [
       "'960 300 Тип исполнения крышный, уличного исполнения Вытяжные установки в комплекте ***: 1)клапан воздушный, 2)секция шумоглушителя на строне всасывания, 3)секция вентилятора, с частотным преобразователем, 4)секция шумоглушителя на сторне выброса, 5) шкаф управления ** 6) Частотный преобразователь (можно в шкафу управления)'"
      ]
     },
     "metadata": {},
     "execution_count": 32
    }
   ],
   "source": [
    "grand = grand.astype(str)\n",
    "grand['Название_all'] = grand[[\n",
    "    'Воздухо - производительность',\n",
    "    'Напор',\n",
    "    'Название'\n",
    "                              ]].agg(' '.join, axis=1)\n",
    "grand['Название_all'][100]"
   ]
  },
  {
   "cell_type": "code",
   "execution_count": 33,
   "metadata": {},
   "outputs": [],
   "source": [
    "def tokenize_num(file_text, allowed_postags=['NOUN', 'ADJF', 'ADJS', 'VERB', 'ADVB'], non_allowed_postags = ['PREP', \"CONJ\"]):\n",
    "    # firstly let's apply nltk tokenization\n",
    "    tokens = word_tokenize(file_text)\n",
    "    \n",
    "    # let's delete punctuation symbols\n",
    "    punctuation = string.punctuation.replace(\"-\", \"\")\n",
    "    tokens = [i for i in tokens if (i not in punctuation)]\n",
    "    tokens = [i for i in tokens if (i not in 'nan')]\n",
    "    \n",
    "    tokens = [re.sub(r\"[#%!@*.,`']\", \" \", sentence) for sentence in tokens]\n",
    "#     tokens = [' '.join(map(str.strip,i.split())) for i in tokens]\n",
    "    \n",
    "    # поменяй комментарии. оставить только числа, оставить только текст\n",
    "    tokens = [' '.join(re.findall(r'[A-Za-z]+|\\d+', token)) for token in tokens]\n",
    "#     tokens = [re.sub(r'[^\\w\\s]+|[\\d]+', r'',i).strip() for i in tokens]\n",
    "    \n",
    "    stemmer = SnowballStemmer(\"russian\") \n",
    "    tokens = [i for i in tokens if morph.parse(i)[0].tag.POS not in non_allowed_postags]\n",
    "    tokens = [stemmer.stem(i) for i in tokens if (i not in punctuation)]\n",
    "    return tokens "
   ]
  },
  {
   "cell_type": "code",
   "execution_count": 34,
   "metadata": {},
   "outputs": [],
   "source": [
    "def tokenize_text(file_text, allowed_postags=['NOUN', 'ADJF', 'ADJS', 'VERB', 'ADVB'], non_allowed_postags = ['PREP', \"CONJ\"]):\n",
    "    file_text = re.sub(r\"[-_]\", \" \", file_text)\n",
    "    # firstly let's apply nltk tokenization\n",
    "    tokens = word_tokenize(file_text)\n",
    "    \n",
    "    # let's delete punctuation symbols\n",
    "    punctuation = string.punctuation # .replace(\"-\", \"\")\n",
    "    tokens = [i for i in tokens if (i not in punctuation)]\n",
    "    tokens = [i for i in tokens if (i not in 'nan')]\n",
    "    \n",
    "    # заменяет символы в квадратных скобках на пробелы\n",
    "    tokens = [re.sub(r\"[#%!@*.,`'-]\", \" \", sentence) for sentence in tokens]\n",
    "#     tokens = [' '.join(map(str.strip,i.split())) for i in tokens]\n",
    "    \n",
    "    # поменяй комментарии. оставить только числа, оставить только текст\n",
    "#     tokens = [' '.join(re.findall(r'[A-Za-z]+|\\d+', token)) for token in tokens]\n",
    "    tokens = [re.sub(r'[^\\w\\s]+|[\\d]+', r'',i).strip() for i in tokens]\n",
    "    \n",
    "    stemmer = SnowballStemmer(\"russian\") \n",
    "    tokens = [i for i in tokens if morph.parse(i)[0].tag.POS not in non_allowed_postags]\n",
    "    tokens = [stemmer.stem(i) for i in tokens if (i not in punctuation)]\n",
    "    return tokens "
   ]
  },
  {
   "cell_type": "code",
   "execution_count": 35,
   "metadata": {},
   "outputs": [],
   "source": [
    "grand['Название_all'] = grand['Название_all'].astype(str)"
   ]
  },
  {
   "cell_type": "code",
   "execution_count": 36,
   "metadata": {},
   "outputs": [
    {
     "output_type": "execute_result",
     "data": {
      "text/plain": [
       "0                                [2630, 120, 1, 2, 3, 4]\n",
       "1                                 [168, 110, 1, 2, 3, 4]\n",
       "2                              [440, 120, 1, 2, 3, 4, 5]\n",
       "3                              [510, 160, 1, 2, 3, 4, 5]\n",
       "4                              [620, 160, 1, 2, 3, 4, 5]\n",
       "                             ...                        \n",
       "239    [8900, 500, 1, 2, 3, G 4, 4, 5, 95 70, 90 70, ...\n",
       "240    [11300, 550, 1, 2, 3, G 4, 4, 5, 95 70, 90 70,...\n",
       "241    [13000, 500, 1, 2, 3, G 4, 4, 5, 95 70, 90 70,...\n",
       "242    [16200, 850, 1, 2, 3, G 4, 4, 5, 95 70, 90 70,...\n",
       "243    [18500, 750, 1, 2, 3, G 4, 4, 5, 95 70, 90 70,...\n",
       "Name: Название_num, Length: 244, dtype: object"
      ]
     },
     "metadata": {},
     "execution_count": 36
    }
   ],
   "source": [
    "grand['Название_num'] = grand['Название_all']\n",
    "grand['Название_num'] = grand['Название_num'].apply(tokenize_num)\n",
    "grand['Название_num']"
   ]
  },
  {
   "cell_type": "code",
   "execution_count": 37,
   "metadata": {},
   "outputs": [
    {
     "output_type": "execute_result",
     "data": {
      "text/plain": [
       "0      [тип, исполнен, крышн, вытяжн, вентилятор, ком...\n",
       "1      [тип, исполнен, подвесн, канальн, установк, ко...\n",
       "2      [тип, исполнен, подвесн, канальн, установк, ко...\n",
       "3      [тип, исполнен, подвесн, канальн, установк, ко...\n",
       "4      [тип, исполнен, подвесн, канальн, установк, ко...\n",
       "                             ...                        \n",
       "239    [тип, исполнен, напольн, приточн, вытяжн, уста...\n",
       "240    [тип, исполнен, напольн, приточн, вытяжн, уста...\n",
       "241    [тип, исполнен, напольн, приточн, вытяжн, уста...\n",
       "242    [тип, исполнен, напольн, приточн, вытяжн, уста...\n",
       "243    [тип, исполнен, напольн, приточн, вытяжн, уста...\n",
       "Name: Название_text, Length: 244, dtype: object"
      ]
     },
     "metadata": {},
     "execution_count": 37
    }
   ],
   "source": [
    "grand['Название_text'] = grand['Название_all']\n",
    "grand['Название_text'] = grand['Название_text'].apply(tokenize_text)\n",
    "grand['Название_text']"
   ]
  },
  {
   "cell_type": "code",
   "execution_count": 38,
   "metadata": {},
   "outputs": [],
   "source": [
    "family['Название'] = family['Название'].astype(str)"
   ]
  },
  {
   "cell_type": "code",
   "execution_count": 39,
   "metadata": {},
   "outputs": [
    {
     "output_type": "execute_result",
     "data": {
      "text/plain": [
       "0          [1, 2, 3, 4, 5, 6, 150 00, 3, 150, 0 50]\n",
       "1     [1, 2, 3, 4, 5, 6, 150 00, 3, 150, 0 50, NED]\n",
       "2          [1, 2, 3, 4, 5, 6, 150 00, 3, 150, 0 50]\n",
       "3          [1, 2, 3, 4, 5, 6, 150 00, 3, 150, 0 50]\n",
       "4          [1, 2, 3, 4, 5, 6, 150 00, 3, 150, 0 50]\n",
       "5          [1, 2, 3, 4, 5, 6, 150 00, 3, 150, 0 50]\n",
       "6          [1, 2, 3, 4, 5, 6, 150 00, 3, 150, 0 50]\n",
       "7          [1, 2, 3, 4, 5, 6, 150 00, 3, 150, 0 50]\n",
       "8          [1, 2, 3, 4, 5, 6, 150 00, 3, 150, 0 50]\n",
       "9          [1, 2, 3, 4, 5, 6, 150 00, 3, 150, 0 50]\n",
       "10         [1, 2, 3, 4, 5, 6, 150 00, 3, 150, 0 50]\n",
       "Name: Название_num, dtype: object"
      ]
     },
     "metadata": {},
     "execution_count": 39
    }
   ],
   "source": [
    "family['Название_num'] = family['Название']\n",
    "family['Название_num'] = family['Название_num'].apply(tokenize_num)\n",
    "family['Название_num']"
   ]
  },
  {
   "cell_type": "code",
   "execution_count": 40,
   "metadata": {},
   "outputs": [
    {
     "output_type": "execute_result",
     "data": {
      "text/plain": [
       "0     [тип, исполнен, крышн, уличн, исполнен, вытяжн...\n",
       "1     [крышн, вытяжн, установк, уличн, исполнен, ком...\n",
       "2     [вытяжн, вентиляцион, агрегат, крышн, исполнен...\n",
       "3     [вытяжн, вентиляцион, агрегат, крышн, исполнен...\n",
       "4     [вентиляцион, вытяжн, установк, крышн, исполне...\n",
       "5     [вентиляцион, вытяжн, установк, крышн, исполне...\n",
       "6     [крышн, центробежн, вентилятор, вытяжн, состав...\n",
       "7     [крышн, вентилятор, вытяжк, состав, клапа, воз...\n",
       "8     [крышн, вентилятор, горизонтальн, выброс, возд...\n",
       "9     [крышн, вентилятор, вертикальн, выброс, воздух...\n",
       "10    [крышн, вентиляцион, установк, вытяжн, комплек...\n",
       "Name: Название_text, dtype: object"
      ]
     },
     "metadata": {},
     "execution_count": 40
    }
   ],
   "source": [
    "family['Название_text'] = family['Название']\n",
    "family['Название_text'] = family['Название_text'].apply(tokenize_text)\n",
    "family['Название_text']"
   ]
  },
  {
   "cell_type": "code",
   "execution_count": 41,
   "metadata": {},
   "outputs": [],
   "source": [
    "grand['Название_text'] = grand['Название_text'].str.join(' ')\n",
    "grand['Название_num'] = grand['Название_num'].str.join(' ')\n",
    "\n",
    "family['Название_text'] = family['Название_text'].str.join(' ')\n",
    "family['Название_num'] = family['Название_num'].str.join(' ')"
   ]
  },
  {
   "cell_type": "code",
   "execution_count": 42,
   "metadata": {},
   "outputs": [],
   "source": [
    "grand = grand.reset_index()\n",
    "family = family.reset_index()"
   ]
  },
  {
   "cell_type": "code",
   "execution_count": 44,
   "metadata": {},
   "outputs": [
    {
     "output_type": "execute_result",
     "data": {
      "text/plain": [
       "   index     id                               Хэш-код  \\\n",
       "0      0  26558  b4ceac0d-23e8-952c-e8e8-83b43d5db298   \n",
       "1      1  26557  39b625d7-cd5f-68ba-64b0-a3298fbb0603   \n",
       "2      2  26556  cbee6473-bead-d32d-97a5-437b2db61bb3   \n",
       "3      3  26555  d9b50bd7-4f1c-d80e-a457-801adf2c65d5   \n",
       "4      4  26554  269a68a7-1664-90a4-d96c-939518fc77d1   \n",
       "\n",
       "                                            Название  \\\n",
       "0  Тип исполнения крышное Вытяжной вентилятор в к...   \n",
       "1  Тип исполнения подвесной Канальные установки в...   \n",
       "2  Тип исполнения подвесной Канальные установки в...   \n",
       "3  Тип исполнения подвесной Канальные установки в...   \n",
       "4  Тип исполнения подвесной Канальные установки в...   \n",
       "\n",
       "  Воздухо - производительность Напор  \\\n",
       "0                         2630   120   \n",
       "1                          168   110   \n",
       "2                          440   120   \n",
       "3                          510   160   \n",
       "4                          620   160   \n",
       "\n",
       "                                        Название_all       Название_num  \\\n",
       "0  2630 120 Тип исполнения крышное Вытяжной венти...   2630 120 1 2 3 4   \n",
       "1  168 110 Тип исполнения подвесной Канальные уст...    168 110 1 2 3 4   \n",
       "2  440 120 Тип исполнения подвесной Канальные уст...  440 120 1 2 3 4 5   \n",
       "3  510 160 Тип исполнения подвесной Канальные уст...  510 160 1 2 3 4 5   \n",
       "4  620 160 Тип исполнения подвесной Канальные уст...  620 160 1 2 3 4 5   \n",
       "\n",
       "                                       Название_text  \n",
       "0  тип исполнен крышн вытяжн вентилятор комплект ...  \n",
       "1  тип исполнен подвесн канальн установк комплект...  \n",
       "2  тип исполнен подвесн канальн установк комплект...  \n",
       "3  тип исполнен подвесн канальн установк комплект...  \n",
       "4  тип исполнен подвесн канальн установк комплект...  "
      ],
      "text/html": "<div>\n<style scoped>\n    .dataframe tbody tr th:only-of-type {\n        vertical-align: middle;\n    }\n\n    .dataframe tbody tr th {\n        vertical-align: top;\n    }\n\n    .dataframe thead th {\n        text-align: right;\n    }\n</style>\n<table border=\"1\" class=\"dataframe\">\n  <thead>\n    <tr style=\"text-align: right;\">\n      <th></th>\n      <th>index</th>\n      <th>id</th>\n      <th>Хэш-код</th>\n      <th>Название</th>\n      <th>Воздухо - производительность</th>\n      <th>Напор</th>\n      <th>Название_all</th>\n      <th>Название_num</th>\n      <th>Название_text</th>\n    </tr>\n  </thead>\n  <tbody>\n    <tr>\n      <th>0</th>\n      <td>0</td>\n      <td>26558</td>\n      <td>b4ceac0d-23e8-952c-e8e8-83b43d5db298</td>\n      <td>Тип исполнения крышное Вытяжной вентилятор в к...</td>\n      <td>2630</td>\n      <td>120</td>\n      <td>2630 120 Тип исполнения крышное Вытяжной венти...</td>\n      <td>2630 120 1 2 3 4</td>\n      <td>тип исполнен крышн вытяжн вентилятор комплект ...</td>\n    </tr>\n    <tr>\n      <th>1</th>\n      <td>1</td>\n      <td>26557</td>\n      <td>39b625d7-cd5f-68ba-64b0-a3298fbb0603</td>\n      <td>Тип исполнения подвесной Канальные установки в...</td>\n      <td>168</td>\n      <td>110</td>\n      <td>168 110 Тип исполнения подвесной Канальные уст...</td>\n      <td>168 110 1 2 3 4</td>\n      <td>тип исполнен подвесн канальн установк комплект...</td>\n    </tr>\n    <tr>\n      <th>2</th>\n      <td>2</td>\n      <td>26556</td>\n      <td>cbee6473-bead-d32d-97a5-437b2db61bb3</td>\n      <td>Тип исполнения подвесной Канальные установки в...</td>\n      <td>440</td>\n      <td>120</td>\n      <td>440 120 Тип исполнения подвесной Канальные уст...</td>\n      <td>440 120 1 2 3 4 5</td>\n      <td>тип исполнен подвесн канальн установк комплект...</td>\n    </tr>\n    <tr>\n      <th>3</th>\n      <td>3</td>\n      <td>26555</td>\n      <td>d9b50bd7-4f1c-d80e-a457-801adf2c65d5</td>\n      <td>Тип исполнения подвесной Канальные установки в...</td>\n      <td>510</td>\n      <td>160</td>\n      <td>510 160 Тип исполнения подвесной Канальные уст...</td>\n      <td>510 160 1 2 3 4 5</td>\n      <td>тип исполнен подвесн канальн установк комплект...</td>\n    </tr>\n    <tr>\n      <th>4</th>\n      <td>4</td>\n      <td>26554</td>\n      <td>269a68a7-1664-90a4-d96c-939518fc77d1</td>\n      <td>Тип исполнения подвесной Канальные установки в...</td>\n      <td>620</td>\n      <td>160</td>\n      <td>620 160 Тип исполнения подвесной Канальные уст...</td>\n      <td>620 160 1 2 3 4 5</td>\n      <td>тип исполнен подвесн канальн установк комплект...</td>\n    </tr>\n  </tbody>\n</table>\n</div>"
     },
     "metadata": {},
     "execution_count": 44
    }
   ],
   "source": [
    "grand.head()"
   ]
  },
  {
   "cell_type": "markdown",
   "metadata": {},
   "source": [
    "### Модель"
   ]
  },
  {
   "source": [
    "from sklearn.pipeline import Pipeline\n",
    "from sklearn.ensemble import RandomForestClassifier\n",
    "from sklearn.feature_extraction.text import TfidfVectorizer\n",
    "from sklearn.compose import ColumnTransformer\n",
    "from sklearn.impute import SimpleImputer\n",
    "from sklearn.compose import make_column_transformer"
   ],
   "cell_type": "code",
   "metadata": {},
   "execution_count": 45,
   "outputs": []
  },
  {
   "cell_type": "code",
   "execution_count": 46,
   "metadata": {},
   "outputs": [],
   "source": [
    "clf_text = Pipeline([     ('tfidf', TfidfVectorizer(\n",
    "                                                   )\n",
    "                          ),\n",
    "                         ('clf', RandomForestClassifier())\n",
    "                     ])\n",
    "clf_num = Pipeline([     ('tfidf', TfidfVectorizer(\n",
    "                                                   )\n",
    "                          ),\n",
    "                         ('clf', RandomForestClassifier())\n",
    "                     ])\n",
    "                    \n",
    "  "
   ]
  },
  {
   "cell_type": "code",
   "execution_count": 47,
   "metadata": {},
   "outputs": [
    {
     "output_type": "execute_result",
     "data": {
      "text/plain": [
       "Pipeline(steps=[('tfidf', TfidfVectorizer()),\n",
       "                ('clf', RandomForestClassifier())])"
      ]
     },
     "metadata": {},
     "execution_count": 47
    }
   ],
   "source": [
    "clf_text.fit(grand['Название_text'], grand['index'])\n",
    "clf_num.fit(grand['Название_num'], grand['index'])"
   ]
  },
  {
   "cell_type": "code",
   "execution_count": 48,
   "metadata": {},
   "outputs": [
    {
     "output_type": "stream",
     "name": "stdout",
     "text": [
      "[0.04067613 0.03970204 0.03845706 0.0376243  0.03722369 0.0369936\n 0.03643682 0.03613249 0.03609236 0.0359317  0.03527973 0.03450177\n 0.0340824  0.03404609 0.03378466 0.03304453 0.03241617 0.03233157\n 0.031765   0.03117699 0.03117099 0.03108052 0.03074957 0.03069664\n 0.02993112 0.02974872 0.02962704 0.02929631 0.01166667 0.00833333\n 0.0026738  0.00208556 0.00208556 0.00181818 0.00181818]\n[0.02476816 0.02456245 0.02449523 0.02431737 0.02414968 0.02409623\n 0.02394146 0.02387251 0.02382681 0.02374151 0.02335494 0.02200538\n 0.02194624 0.0218741  0.02143558 0.02086377 0.02074225 0.02068555\n 0.02       0.01983319 0.01938774 0.01846039 0.01793746 0.01764373\n 0.01739053 0.01715414 0.01690242 0.01628895 0.01432224 0.01333333\n 0.01164598 0.01116667 0.01016754 0.00930658 0.00900825]\n[0.04595412 0.04381886 0.04297416 0.042656   0.04230383 0.0407497\n 0.04061917 0.04054872 0.03898453 0.03898323 0.03864794 0.03619414\n 0.03406339 0.03350221 0.03       0.01959904 0.01843985 0.01509651\n 0.01331978 0.01266993 0.01245045 0.01219413 0.01145152 0.01022688\n 0.0101684  0.01       0.0099898  0.0096411  0.00836577 0.00765152\n 0.00666667 0.00638684 0.006      0.00598028 0.00587884]\n[0.04595412 0.04381886 0.04297416 0.042656   0.04230383 0.0407497\n 0.04061917 0.04054872 0.03898453 0.03898323 0.03864794 0.03619414\n 0.03406339 0.03350221 0.03       0.01959904 0.01843985 0.01509651\n 0.01331978 0.01266993 0.01245045 0.01219413 0.01145152 0.01022688\n 0.0101684  0.01       0.0099898  0.0096411  0.00836577 0.00765152\n 0.00666667 0.00638684 0.006      0.00598028 0.00587884]\n[0.04       0.03501858 0.03348114 0.03217966 0.03093278 0.03033333\n 0.0301871  0.02966667 0.02901931 0.02804367 0.02796384 0.02729715\n 0.02653052 0.02379157 0.0236408  0.02185718 0.02138227 0.02053161\n 0.02047829 0.01553896 0.01550848 0.01449889 0.01332215 0.01238147\n 0.01229629 0.01210786 0.01200649 0.01157125 0.01076677 0.01\n 0.00986343 0.00780249 0.00765152 0.00746348 0.00660801]\n[0.04       0.03501858 0.03348114 0.03217966 0.03093278 0.03033333\n 0.0301871  0.02966667 0.02901931 0.02804367 0.02796384 0.02729715\n 0.02653052 0.02379157 0.0236408  0.02185718 0.02138227 0.02053161\n 0.02047829 0.01553896 0.01550848 0.01449889 0.01332215 0.01238147\n 0.01229629 0.01210786 0.01200649 0.01157125 0.01076677 0.01\n 0.00986343 0.00780249 0.00765152 0.00746348 0.00660801]\n[0.0355987  0.03350444 0.03300991 0.03274109 0.03254259 0.03216383\n 0.03187379 0.03168339 0.03075029 0.03       0.029163   0.02638439\n 0.02607865 0.02326002 0.02299965 0.0212459  0.02015167 0.01826365\n 0.01816667 0.0171596  0.01633333 0.0149884  0.01497075 0.01447548\n 0.01326623 0.01284041 0.01258009 0.01181421 0.01178262 0.01155231\n 0.01107785 0.0105     0.01017237 0.01       0.01      ]\n[0.03020646 0.03       0.02876741 0.02799315 0.02784759 0.02754649\n 0.02707679 0.02644987 0.02611888 0.02348403 0.02311598 0.023\n 0.02281685 0.02052651 0.02036562 0.02000617 0.01841952 0.01768439\n 0.01666667 0.01643352 0.01551715 0.01494751 0.01483802 0.01333333\n 0.01330979 0.01316667 0.01258009 0.01203012 0.01181421 0.01173063\n 0.011496   0.01133333 0.01115451 0.01069888 0.01059896]\n[0.03077235 0.0301564  0.03002317 0.03       0.02949702 0.02718021\n 0.0265     0.02465325 0.02357484 0.02211473 0.02087536 0.02006599\n 0.01929351 0.01875586 0.01716667 0.01693637 0.01610094 0.01333333\n 0.01133333 0.01110653 0.01       0.00964773 0.00928913 0.00872992\n 0.00871831 0.00868864 0.0081885  0.00810922 0.00808875 0.00808027\n 0.00792532 0.00780199 0.00780037 0.00763584 0.00756097]\n[0.03077235 0.0301564  0.03002317 0.03       0.02949702 0.02718021\n 0.0265     0.02465325 0.02357484 0.02211473 0.02087536 0.02006599\n 0.01929351 0.01875586 0.01716667 0.01693637 0.01610094 0.01333333\n 0.01133333 0.01110653 0.01       0.00964773 0.00928913 0.00872992\n 0.00871831 0.00868864 0.0081885  0.00810922 0.00808875 0.00808027\n 0.00792532 0.00780199 0.00780037 0.00763584 0.00756097]\n[0.03114358 0.03092966 0.03       0.02985614 0.0295621  0.02930778\n 0.02839431 0.02741867 0.02733884 0.02667215 0.02633333 0.02553052\n 0.02366667 0.02316657 0.0210158  0.02094809 0.02047829 0.01990661\n 0.01975727 0.01641757 0.01462987 0.0135898  0.01332215 0.01329056\n 0.01320538 0.01258009 0.01210786 0.01200649 0.01181421 0.01168161\n 0.01116667 0.01076677 0.01066216 0.01       0.01      ]\n"
     ]
    }
   ],
   "source": [
    "proba_text = clf_text.predict_proba(family['Название_text'])\n",
    "\n",
    "all_top5_max_index_text = []\n",
    "all_top5_max_value_text = []\n",
    "for one_proba in proba_text:\n",
    "    top5_max_index_text = np.argsort(one_proba)[-35:]\n",
    "    top5_max_value_text = np.flip(one_proba[top5_max_index_text])\n",
    "    \n",
    "    all_top5_max_index_text.append(top5_max_index_text)\n",
    "    all_top5_max_value_text.append(top5_max_value_text)\n",
    "    print(top5_max_value_text)\n",
    "    \n",
    "all_top5_max_index_text = np.array(all_top5_max_index_text)\n",
    "all_top5_max_value_text = np.array(all_top5_max_value_text)"
   ]
  },
  {
   "cell_type": "code",
   "execution_count": 49,
   "metadata": {},
   "outputs": [
    {
     "output_type": "stream",
     "name": "stdout",
     "text": [
      "[0.14493573 0.13676018 0.13044447 0.12601895 0.12513298 0.12010576\n 0.11346234 0.10313958 0.         0.         0.         0.\n 0.         0.         0.         0.         0.         0.\n 0.         0.         0.         0.         0.         0.\n 0.         0.         0.         0.         0.         0.\n 0.         0.         0.         0.         0.        ]\n[0.14493573 0.13676018 0.13044447 0.12601895 0.12513298 0.12010576\n 0.11346234 0.10313958 0.         0.         0.         0.\n 0.         0.         0.         0.         0.         0.\n 0.         0.         0.         0.         0.         0.\n 0.         0.         0.         0.         0.         0.\n 0.         0.         0.         0.         0.        ]\n[0.14493573 0.13676018 0.13044447 0.12601895 0.12513298 0.12010576\n 0.11346234 0.10313958 0.         0.         0.         0.\n 0.         0.         0.         0.         0.         0.\n 0.         0.         0.         0.         0.         0.\n 0.         0.         0.         0.         0.         0.\n 0.         0.         0.         0.         0.        ]\n[0.14493573 0.13676018 0.13044447 0.12601895 0.12513298 0.12010576\n 0.11346234 0.10313958 0.         0.         0.         0.\n 0.         0.         0.         0.         0.         0.\n 0.         0.         0.         0.         0.         0.\n 0.         0.         0.         0.         0.         0.\n 0.         0.         0.         0.         0.        ]\n[0.14493573 0.13676018 0.13044447 0.12601895 0.12513298 0.12010576\n 0.11346234 0.10313958 0.         0.         0.         0.\n 0.         0.         0.         0.         0.         0.\n 0.         0.         0.         0.         0.         0.\n 0.         0.         0.         0.         0.         0.\n 0.         0.         0.         0.         0.        ]\n[0.14493573 0.13676018 0.13044447 0.12601895 0.12513298 0.12010576\n 0.11346234 0.10313958 0.         0.         0.         0.\n 0.         0.         0.         0.         0.         0.\n 0.         0.         0.         0.         0.         0.\n 0.         0.         0.         0.         0.         0.\n 0.         0.         0.         0.         0.        ]\n[0.14493573 0.13676018 0.13044447 0.12601895 0.12513298 0.12010576\n 0.11346234 0.10313958 0.         0.         0.         0.\n 0.         0.         0.         0.         0.         0.\n 0.         0.         0.         0.         0.         0.\n 0.         0.         0.         0.         0.         0.\n 0.         0.         0.         0.         0.        ]\n[0.14493573 0.13676018 0.13044447 0.12601895 0.12513298 0.12010576\n 0.11346234 0.10313958 0.         0.         0.         0.\n 0.         0.         0.         0.         0.         0.\n 0.         0.         0.         0.         0.         0.\n 0.         0.         0.         0.         0.         0.\n 0.         0.         0.         0.         0.        ]\n[0.14493573 0.13676018 0.13044447 0.12601895 0.12513298 0.12010576\n 0.11346234 0.10313958 0.         0.         0.         0.\n 0.         0.         0.         0.         0.         0.\n 0.         0.         0.         0.         0.         0.\n 0.         0.         0.         0.         0.         0.\n 0.         0.         0.         0.         0.        ]\n[0.14493573 0.13676018 0.13044447 0.12601895 0.12513298 0.12010576\n 0.11346234 0.10313958 0.         0.         0.         0.\n 0.         0.         0.         0.         0.         0.\n 0.         0.         0.         0.         0.         0.\n 0.         0.         0.         0.         0.         0.\n 0.         0.         0.         0.         0.        ]\n[0.14493573 0.13676018 0.13044447 0.12601895 0.12513298 0.12010576\n 0.11346234 0.10313958 0.         0.         0.         0.\n 0.         0.         0.         0.         0.         0.\n 0.         0.         0.         0.         0.         0.\n 0.         0.         0.         0.         0.         0.\n 0.         0.         0.         0.         0.        ]\n"
     ]
    }
   ],
   "source": [
    "proba_num = clf_num.predict_proba(family['Название_num'])\n",
    "\n",
    "all_top5_max_index_num = []\n",
    "all_top5_max_value_num = []\n",
    "for one_proba in proba_num:\n",
    "    #сортируем индексы по максимальным значения из one_proba\n",
    "    top5_max_index_num = np.argsort(one_proba)[-35:]\n",
    "    top5_max_value_num = np.flip(one_proba[top5_max_index_num])\n",
    "    \n",
    "    all_top5_max_index_num.append(top5_max_index_num)\n",
    "    all_top5_max_value_num.append(top5_max_value_num)\n",
    "    print(top5_max_value_num)\n",
    "    \n",
    "all_top5_max_index_num = np.array(all_top5_max_index_num)\n",
    "all_top5_max_value_num = np.array(all_top5_max_value_num)"
   ]
  },
  {
   "cell_type": "code",
   "execution_count": 50,
   "metadata": {},
   "outputs": [],
   "source": [
    "import xlsxwriter"
   ]
  },
  {
   "cell_type": "code",
   "execution_count": 52,
   "metadata": {
    "tags": []
   },
   "outputs": [
    {
     "output_type": "stream",
     "name": "stdout",
     "text": [
      "['Хэш-код', 'Название', 'Воздухо - производительность', 'Напор', 'Название_all', 'Название_num', 'Название_text']\n['Хэш-код', 'Название', 'Воздухо - производительность', 'Напор', 'Название_all', 'Название_num', 'Название_text']\n['Хэш-код', 'Название', 'Воздухо - производительность', 'Напор', 'Название_all', 'Название_num', 'Название_text']\n['Хэш-код', 'Название', 'Воздухо - производительность', 'Напор', 'Название_all', 'Название_num', 'Название_text']\n['Хэш-код', 'Название', 'Воздухо - производительность', 'Напор', 'Название_all', 'Название_num', 'Название_text']\n['Хэш-код', 'Название', 'Воздухо - производительность', 'Напор', 'Название_all', 'Название_num', 'Название_text']\n['Хэш-код', 'Название', 'Воздухо - производительность', 'Напор', 'Название_all', 'Название_num', 'Название_text']\n['Хэш-код', 'Название', 'Воздухо - производительность', 'Напор', 'Название_all', 'Название_num', 'Название_text']\n['Хэш-код', 'Название', 'Воздухо - производительность', 'Напор', 'Название_all', 'Название_num', 'Название_text']\n['Хэш-код', 'Название', 'Воздухо - производительность', 'Напор', 'Название_all', 'Название_num', 'Название_text']\n['Хэш-код', 'Название', 'Воздухо - производительность', 'Напор', 'Название_all', 'Название_num', 'Название_text']\n"
     ]
    }
   ],
   "source": [
    "# суммирую результаты по нум и по тексту, получается не очень\n",
    "result_dict = {}\n",
    "workbook = xlsxwriter.Workbook('write_data.xlsx', {'nan_inf_to_errors': True})\n",
    "worksheet = workbook.add_worksheet()\n",
    "i = 0\n",
    "for (index, fam_row), top5_max_index_text, top5_max_value_text, top5_max_index_num, top5_max_value_num in zip(\n",
    "                                                            family.iterrows(),\n",
    "                                                            all_top5_max_index_text, all_top5_max_value_text,\n",
    "                                                            all_top5_max_index_num, all_top5_max_value_num\n",
    "                                                           ):\n",
    "#     print(fam_row['ФСК_Описание'])\n",
    "#     print(fam_row['id'])\n",
    "    worksheet.write(i, 0, fam_row['GrandTenderHash'])\n",
    "    worksheet.write(i, 1, fam_row['Название'])\n",
    "    worksheet.write(i, 2, fam_row['Название_text'])\n",
    "    worksheet.write(i, 3, fam_row['Название_num'])\n",
    "    i += 1\n",
    "    \n",
    "#     print(top5_max_index_text)\n",
    "#     print(top5_max_value_text)\n",
    "\n",
    "    df_index_value_text = pd.DataFrame((top5_max_index_text, top5_max_value_text)).transpose()\n",
    "    df_index_value_text.columns = ['index', 'values_text']\n",
    "    \n",
    "    df_index_value_num = pd.DataFrame((top5_max_index_num, top5_max_value_num)).transpose()\n",
    "    df_index_value_num.columns = ['index', 'values_num']\n",
    "    \n",
    "#     print(df_index_value_text)\n",
    "#     print('------')\n",
    "#     print(df_index_value_num)\n",
    "#     print('######')\n",
    "    df_index_value = pd.merge(df_index_value_text, df_index_value_num, how='inner')\n",
    "    # print(df_index_value.columns)\n",
    "    # df_index_value = df_index_value.sort_values(by=['values_num', 'values_text'], ascending=False).iloc[:10, :]\n",
    "#     print(df_index_value)\n",
    "    \n",
    "    df_res = pd.merge(df_index_value, grand, how='left').iloc[:10, :]\n",
    "\n",
    "    \n",
    "    if fam_row['GrandTenderHash'] in df_res['Хэш-код'].to_list():\n",
    "        worksheet.write(i - 1, 4, 'YES!')\n",
    "    else:\n",
    "        worksheet.write(i - 1, 4, 'NO:((')\n",
    "\n",
    "    df_res.drop(['index', 'id', \"values_text\", \"values_num\"], axis=1, inplace=True)\n",
    "    # print(df_res.columns)\n",
    "    cols = ['Хэш-код']  + [col for col in df_res if col != 'Хэш-код']\n",
    "    df_res = df_res[cols]\n",
    "    print(cols)\n",
    "\n",
    "    j = 0\n",
    "    for col in cols:\n",
    "        worksheet.write(i, j, col)\n",
    "        j += 1\n",
    "    i += 1\n",
    "    # печать содержимого df\n",
    "    for string in df_res.values.tolist():\n",
    "        j = 0\n",
    "        for cell in string:\n",
    "            worksheet.write(i, j, cell)\n",
    "            j += 1  \n",
    "        i += 1\n",
    "    i += 1\n",
    "\n",
    "workbook.close()"
   ]
  },
  {
   "cell_type": "code",
   "execution_count": 29,
   "metadata": {},
   "outputs": [
    {
     "output_type": "stream",
     "name": "stdout",
     "text": [
      "perfecto\n"
     ]
    }
   ],
   "source": [
    "print('perfecto')"
   ]
  }
 ],
 "metadata": {
  "kernelspec": {
   "display_name": "Python 3",
   "language": "python",
   "name": "python3"
  },
  "language_info": {
   "codemirror_mode": {
    "name": "ipython",
    "version": 3
   },
   "file_extension": ".py",
   "mimetype": "text/x-python",
   "name": "python",
   "nbconvert_exporter": "python",
   "pygments_lexer": "ipython3",
   "version": "3.8.3"
  }
 },
 "nbformat": 4,
 "nbformat_minor": 4
}